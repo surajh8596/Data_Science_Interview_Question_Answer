{
 "cells": [
  {
   "cell_type": "markdown",
   "id": "3fa33d1a",
   "metadata": {},
   "source": [
    "### 1. What are DDL and DML languages? Give an example.\n",
    "#### DDL (Data Definition Language) is used to define the structures like schema, database, tables, constraints etc. Examples of DDL are create and alter statements. DML (Data Manipulation Language) is used to manipulate data. Examples of DML are insert, update and delete statements."
   ]
  },
  {
   "cell_type": "code",
   "execution_count": null,
   "id": "42259b95",
   "metadata": {},
   "outputs": [],
   "source": []
  },
  {
   "cell_type": "markdown",
   "id": "ee18a367",
   "metadata": {},
   "source": [
    "### 2. Explain the effect of delete, drop and truncate statements?\n",
    "####  DELETE and TRUNCATE are Data Manipulation Language (DML) operations while DROP is a Data Definition Language (DDL) operation. DROP command removes a table from the database. DELETE is a Data Manipulation Language Command (DML). It is used to delete one or more tuples of a table. With the help of the `DELETE` command, we can either delete all the rows in one go or can delete rows one by one. i.e., we can use it as per the requirement or the condition using the Where clause. It is comparatively slower than the TRUNCATE command. The TRUNCATE command does not remove the structure of the table."
   ]
  },
  {
   "cell_type": "code",
   "execution_count": null,
   "id": "56e0f03c",
   "metadata": {},
   "outputs": [],
   "source": []
  },
  {
   "cell_type": "markdown",
   "id": "b3af814b",
   "metadata": {},
   "source": [
    "### 3. What is the difference between Inner, Left, Right, Full outer join?\n",
    "#### Function of these 4 joins,\n",
    "1. INNER JOIN: returns rows when there is a match in both tables.\n",
    "2. LEFT JOIN: returns all rows from the left table, even if there are no matches in the right table and matching rows from right table. \n",
    "3. RIGHT JOIN: returns all rows from the right table, even if there are no matches in the left table and matching rows from left table.\n",
    "4. FULL OUTER JOIN: combines the both left and right table."
   ]
  },
  {
   "cell_type": "code",
   "execution_count": null,
   "id": "00007b8b",
   "metadata": {},
   "outputs": [],
   "source": []
  },
  {
   "cell_type": "markdown",
   "id": "b038ff4e",
   "metadata": {},
   "source": [
    "### 4. What is the difference between join and union?\n",
    "#### The difference between JOIN and UNION is that JOIN combines the tuples from two relations and the resultant tuples include attributes from both the relations. On the other hand, the UNION combines the result of two SELECT queries. The JOIN clause is applicable only when the two relations involved have at least one attribute common in both. UNION puts lines from queries after each other, while JOIN makes a cartesian product and subsets it – completely different operations."
   ]
  },
  {
   "cell_type": "code",
   "execution_count": null,
   "id": "d37cdd63",
   "metadata": {},
   "outputs": [],
   "source": []
  },
  {
   "cell_type": "markdown",
   "id": "3f7888f5",
   "metadata": {},
   "source": [
    "### 5. Can multiple primary keys exist on a single table?\n",
    "#### Primary keys must not be multiple."
   ]
  },
  {
   "cell_type": "code",
   "execution_count": null,
   "id": "8da97e96",
   "metadata": {},
   "outputs": [],
   "source": []
  },
  {
   "cell_type": "markdown",
   "id": "6f4d1332",
   "metadata": {},
   "source": [
    "### 6. Explain the cases to use `where` versus `having`?\n",
    "#### WHERE is used to filter records before a GROUP BY acts on them (or in queries that don't have a group by). HAVING is used to filter rows after a GROUP BY has acted on them."
   ]
  },
  {
   "cell_type": "code",
   "execution_count": null,
   "id": "09891514",
   "metadata": {},
   "outputs": [],
   "source": []
  },
  {
   "cell_type": "markdown",
   "id": "65f55658",
   "metadata": {},
   "source": [
    "### 7. What is the difference between clustered and non-clustered indexes?\n",
    "#### Clustered and non-clustered indexes are two types of indexes in SQL Server. A clustered index determines how the data is stored in the rows of a table. It sorts and stores the data rows in the table based on their key values. The leaf nodes of a clustered index contain the data pages themselves. In contrast, a non-clustered index stores the data at one location and indices at another location. It does not sort and store the data pages themselves but instead stores pointers to the data pages. Non-clustered indexes are stored in a separate structure from the data rows, which means that they can be created on columns that are not part of the primary key or clustered index."
   ]
  },
  {
   "cell_type": "code",
   "execution_count": null,
   "id": "a2c8dcb3",
   "metadata": {},
   "outputs": [],
   "source": []
  },
  {
   "cell_type": "markdown",
   "id": "d84b0831",
   "metadata": {},
   "source": [
    "### 8. How would you extract the last four characters from a string?\n",
    "#### `SELECT SUBSTRING('Hello World', -4);`\n",
    "#### `SELECT RIGHT('Hello World', 4);`\n",
    "#### `SELECT RIGHT(column, 4) as value FROM table`"
   ]
  },
  {
   "cell_type": "code",
   "execution_count": null,
   "id": "18533510",
   "metadata": {},
   "outputs": [],
   "source": []
  }
 ],
 "metadata": {
  "kernelspec": {
   "display_name": "Python 3 (ipykernel)",
   "language": "python",
   "name": "python3"
  },
  "language_info": {
   "codemirror_mode": {
    "name": "ipython",
    "version": 3
   },
   "file_extension": ".py",
   "mimetype": "text/x-python",
   "name": "python",
   "nbconvert_exporter": "python",
   "pygments_lexer": "ipython3",
   "version": "3.9.7"
  }
 },
 "nbformat": 4,
 "nbformat_minor": 5
}
