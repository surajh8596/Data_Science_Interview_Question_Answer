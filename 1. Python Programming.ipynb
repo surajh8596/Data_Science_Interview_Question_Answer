{
 "cells": [
  {
   "cell_type": "markdown",
   "id": "f8d15b44",
   "metadata": {},
   "source": [
    "### 1.  What is the difference between list and tuple?\n",
    "#### Both list and tuple are the inbuilt data structure of python programming language. Both are collection and sequential type. We can define list using `list` or `[ ]` and tuples using `tuple` or `( )`. Main difference is list are mutable which means we can modify the elements in the list after defining it but the tuples are immutable, we cannot modify the elements after defining the tuple."
   ]
  },
  {
   "cell_type": "code",
   "execution_count": 9,
   "id": "b3cb47ba",
   "metadata": {},
   "outputs": [
    {
     "name": "stdout",
     "output_type": "stream",
     "text": [
      "my_list1: [1, 2, 3, 4, 5] <class 'list'> my_list2: [1, 2, 3, 4, 5] <class 'list'>\n",
      "Modified list [1, 2, 10, 4, 5]\n"
     ]
    }
   ],
   "source": [
    "# defining list, and modify\n",
    "my_list1=list((1,2,3,4,5))\n",
    "my_list2=[1,2,3,4,5]\n",
    "print(\"my_list1:\", my_list1, type(my_list1),  \"my_list2:\", my_list2, type(my_list2))\n",
    "\n",
    "my_list2[2]=10\n",
    "print(\"Modified list\", my_list2)"
   ]
  },
  {
   "cell_type": "code",
   "execution_count": 11,
   "id": "cbf9c605",
   "metadata": {},
   "outputs": [
    {
     "name": "stdout",
     "output_type": "stream",
     "text": [
      "my_tuple1: (1, 2, 3, 4, 5) <class 'tuple'> my_tuple2: (1, 2, 3, 4, 5) <class 'tuple'>\n"
     ]
    },
    {
     "ename": "TypeError",
     "evalue": "'tuple' object does not support item assignment",
     "output_type": "error",
     "traceback": [
      "\u001b[1;31m---------------------------------------------------------------------------\u001b[0m",
      "\u001b[1;31mTypeError\u001b[0m                                 Traceback (most recent call last)",
      "\u001b[1;32m~\\AppData\\Local\\Temp/ipykernel_5304/1197976500.py\u001b[0m in \u001b[0;36m<module>\u001b[1;34m\u001b[0m\n\u001b[0;32m      4\u001b[0m \u001b[0mprint\u001b[0m\u001b[1;33m(\u001b[0m\u001b[1;34m\"my_tuple1:\"\u001b[0m\u001b[1;33m,\u001b[0m \u001b[0mmy_tuple1\u001b[0m\u001b[1;33m,\u001b[0m \u001b[0mtype\u001b[0m\u001b[1;33m(\u001b[0m\u001b[0mmy_tuple1\u001b[0m\u001b[1;33m)\u001b[0m\u001b[1;33m,\u001b[0m  \u001b[1;34m\"my_tuple2:\"\u001b[0m\u001b[1;33m,\u001b[0m \u001b[0mmy_tuple2\u001b[0m\u001b[1;33m,\u001b[0m \u001b[0mtype\u001b[0m\u001b[1;33m(\u001b[0m\u001b[0mmy_tuple2\u001b[0m\u001b[1;33m)\u001b[0m\u001b[1;33m)\u001b[0m\u001b[1;33m\u001b[0m\u001b[1;33m\u001b[0m\u001b[0m\n\u001b[0;32m      5\u001b[0m \u001b[1;33m\u001b[0m\u001b[0m\n\u001b[1;32m----> 6\u001b[1;33m \u001b[0mmy_tuple2\u001b[0m\u001b[1;33m[\u001b[0m\u001b[1;36m2\u001b[0m\u001b[1;33m]\u001b[0m\u001b[1;33m=\u001b[0m\u001b[1;36m10\u001b[0m\u001b[1;33m\u001b[0m\u001b[1;33m\u001b[0m\u001b[0m\n\u001b[0m\u001b[0;32m      7\u001b[0m \u001b[0mprint\u001b[0m\u001b[1;33m(\u001b[0m\u001b[1;34m\"Modified list\"\u001b[0m\u001b[1;33m,\u001b[0m \u001b[0mmy_list2\u001b[0m\u001b[1;33m)\u001b[0m\u001b[1;33m\u001b[0m\u001b[1;33m\u001b[0m\u001b[0m\n",
      "\u001b[1;31mTypeError\u001b[0m: 'tuple' object does not support item assignment"
     ]
    }
   ],
   "source": [
    "# defining tutple, and modify\n",
    "my_tuple1=tuple((1,2,3,4,5))\n",
    "my_tuple2=(1,2,3,4,5)\n",
    "print(\"my_tuple1:\", my_tuple1, type(my_tuple1),  \"my_tuple2:\", my_tuple2, type(my_tuple2))\n",
    "\n",
    "my_tuple2[2]=10\n",
    "print(\"Modified list\", my_list2)"
   ]
  },
  {
   "cell_type": "markdown",
   "id": "43237c64",
   "metadata": {},
   "source": [
    "#### We got type error saying object assignment is not possible in tuple that means we cannot modify tuple once we created."
   ]
  },
  {
   "cell_type": "code",
   "execution_count": null,
   "id": "d1f96b35",
   "metadata": {},
   "outputs": [],
   "source": []
  },
  {
   "cell_type": "markdown",
   "id": "ec67d02c",
   "metadata": {},
   "source": [
    "### 2.  What is the difference between append and extend?\n",
    "#### Both append and extend are the operation performed on list, using these two we add elements to existing list. `Append` adds one element at a time and the added element is inserted/attached at the end position of the list. `Extend` attach or insert elements of iterable to existing list at the end of list."
   ]
  },
  {
   "cell_type": "code",
   "execution_count": 13,
   "id": "079f2415",
   "metadata": {},
   "outputs": [
    {
     "name": "stdout",
     "output_type": "stream",
     "text": [
      "Original List [1, 2, 3, 4, 5, 6, 7, 8, 9]\n",
      "Modified List [1, 2, 3, 4, 5, 6, 7, 8, 9, 10]\n"
     ]
    }
   ],
   "source": [
    "#defining list and using append\n",
    "my_list=[1,2,3,4,5,6,7,8,9]\n",
    "print(\"Original List\", my_list)\n",
    "my_list.append(10)\n",
    "print(\"Modified List\", my_list)"
   ]
  },
  {
   "cell_type": "code",
   "execution_count": 16,
   "id": "8ba466d7",
   "metadata": {},
   "outputs": [
    {
     "name": "stdout",
     "output_type": "stream",
     "text": [
      "Original List [1, 2, 3, 4, 5, 6, 7, 8, 9]\n",
      "Modified List [1, 2, 3, 4, 5, 6, 7, 8, 9, 10, 11, 12, 13]\n"
     ]
    }
   ],
   "source": [
    "#defining list and using extend\n",
    "my_list=[1,2,3,4,5,6,7,8,9]\n",
    "print(\"Original List\", my_list)\n",
    "my_list.extend([10,11,12,13])\n",
    "print(\"Modified List\", my_list)"
   ]
  },
  {
   "cell_type": "code",
   "execution_count": null,
   "id": "b3cfc1b3",
   "metadata": {},
   "outputs": [],
   "source": []
  },
  {
   "cell_type": "markdown",
   "id": "5002f16f",
   "metadata": {},
   "source": [
    "### 3. What is List Comprehension?\n",
    "#### List comprehension is a shorter syntax to create a new list based on the values of an existing list/iterable."
   ]
  },
  {
   "cell_type": "code",
   "execution_count": null,
   "id": "b39e5280",
   "metadata": {},
   "outputs": [],
   "source": []
  },
  {
   "cell_type": "markdown",
   "id": "a884ea7c",
   "metadata": {},
   "source": [
    "### 4. Use list comprehension. Take a list of numbers from users, remove all odd numbers from the list."
   ]
  },
  {
   "cell_type": "code",
   "execution_count": 26,
   "id": "35f0bf07",
   "metadata": {},
   "outputs": [
    {
     "name": "stdout",
     "output_type": "stream",
     "text": [
      "1 2 3 4 5 6 7 8 9 10\n",
      "[2, 4, 6, 8, 10]\n"
     ]
    }
   ],
   "source": [
    "list_comp=[int(i) for i in input().split(\" \") if int(i)%2==0]\n",
    "print(list_comp)"
   ]
  },
  {
   "cell_type": "code",
   "execution_count": null,
   "id": "04936573",
   "metadata": {},
   "outputs": [],
   "source": []
  },
  {
   "cell_type": "markdown",
   "id": "730457df",
   "metadata": {},
   "source": [
    "### 5.  What is the lambda function and write one example?\n",
    "#### A lambda function is a small anonymous function. A lambda function can take any number of arguments, but can only have one expression. We use lambda instead of user defined function when we dont want to return something multiple time after every execution.\n",
    "Syntax `lambda arguments : expression The expression is executed and the result is returned`"
   ]
  },
  {
   "cell_type": "code",
   "execution_count": 29,
   "id": "a82bbfe7",
   "metadata": {},
   "outputs": [
    {
     "data": {
      "text/plain": [
       "6"
      ]
     },
     "execution_count": 29,
     "metadata": {},
     "output_type": "execute_result"
    }
   ],
   "source": [
    "# creating function to add 3 numbers\n",
    "lambda_explained=lambda a, b, c : a+b+c\n",
    "\n",
    "#calling the function\n",
    "lambda_explained(1,2,3)"
   ]
  },
  {
   "cell_type": "code",
   "execution_count": null,
   "id": "ae8d6206",
   "metadata": {},
   "outputs": [],
   "source": []
  },
  {
   "cell_type": "markdown",
   "id": "db5af301",
   "metadata": {},
   "source": [
    "### 6. Take a string and find the first repeating character in it and return its index."
   ]
  },
  {
   "cell_type": "code",
   "execution_count": 51,
   "id": "f55497fe",
   "metadata": {},
   "outputs": [
    {
     "name": "stdout",
     "output_type": "stream",
     "text": [
      "Original String= data scientist\n",
      "First Repeating Character and its index position\n",
      " Value= a Index= 3\n"
     ]
    }
   ],
   "source": [
    "my_string='data scientist'\n",
    "print(\"Original String=\", my_string)\n",
    "\n",
    "my_dict={}\n",
    "for index, key in enumerate(my_string):\n",
    "    count=1\n",
    "    if key not in my_dict.keys():\n",
    "        my_dict[key]=count\n",
    "    else:\n",
    "        my_dict[key]+=1\n",
    "        print(\"First Repeating Character and its index position\\n\", \"Value=\", key, \"Index=\", index)\n",
    "        break"
   ]
  },
  {
   "cell_type": "code",
   "execution_count": null,
   "id": "67832190",
   "metadata": {},
   "outputs": [],
   "source": []
  },
  {
   "cell_type": "markdown",
   "id": "cc09847e",
   "metadata": {},
   "source": [
    "### 7.  What do you understand by oops? What is the purpose of using oops concepts?\n",
    "#### In Python, object-oriented Programming (OOPs) is a programming paradigm that uses objects and classes in programming. It aims to implement real-world entities like inheritance, polymorphisms, encapsulation, etc. in the programming. The main concept of OOPs is to bind the data and the functions that work on that together as a single unit so that no other part of the code can access this data."
   ]
  },
  {
   "cell_type": "markdown",
   "id": "f81294c4",
   "metadata": {},
   "source": [
    "### 8. What is the function of `self`?\n",
    "#### `self` in a parameter represent the instance of that class."
   ]
  },
  {
   "cell_type": "code",
   "execution_count": null,
   "id": "578e031e",
   "metadata": {},
   "outputs": [],
   "source": []
  },
  {
   "cell_type": "markdown",
   "id": "6e4b7d7b",
   "metadata": {},
   "source": [
    "### 9. What are the four main features of oops?\n",
    "#### OOPs Concepts in Python\n",
    "1. Polymorphism\n",
    "2. Encapsulation\n",
    "3. Inheritance\n",
    "4. Data Abstraction"
   ]
  },
  {
   "cell_type": "code",
   "execution_count": null,
   "id": "f4e61486",
   "metadata": {},
   "outputs": [],
   "source": []
  },
  {
   "cell_type": "markdown",
   "id": "08eabe96",
   "metadata": {},
   "source": [
    "### 10. What is Inheritance? Name the main types of python inheritance.\n",
    "#### A class's ability to inherit methods or characteristics from another class is known as inheritance. The subclass or child class is the class that inherits. The superclass or parent class is the class from which methods or attributes are inherited. \n",
    "#### Five type of inheritance in python,\n",
    "1. Single Inheritance\n",
    "2. Multiple Inheritance\n",
    "3. Multilevel Inheritance\n",
    "4. Hierarchical Inheritance\n",
    "5. Hybrid Inheritance"
   ]
  },
  {
   "cell_type": "code",
   "execution_count": null,
   "id": "35f93c61",
   "metadata": {},
   "outputs": [],
   "source": []
  }
 ],
 "metadata": {
  "kernelspec": {
   "display_name": "Python 3 (ipykernel)",
   "language": "python",
   "name": "python3"
  },
  "language_info": {
   "codemirror_mode": {
    "name": "ipython",
    "version": 3
   },
   "file_extension": ".py",
   "mimetype": "text/x-python",
   "name": "python",
   "nbconvert_exporter": "python",
   "pygments_lexer": "ipython3",
   "version": "3.9.7"
  }
 },
 "nbformat": 4,
 "nbformat_minor": 5
}
