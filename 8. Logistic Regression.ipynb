{
 "cells": [
  {
   "cell_type": "markdown",
   "id": "b5b98a0a",
   "metadata": {},
   "source": [
    "### 1. What is the difference between linear regression and logistic regression?\n",
    "#### The main differences between logistic regression and linear regression are:\n",
    "1. Logistic regression models the target variable is binary values, while linear regression models the target variable is continuous numeric values.\n",
    "2. Logistic regression does not require a linear relationship between the dependent and independent variables, while linear regression does.\n",
    "3. Logistic regression can also handle correlated independent variables, while linear regression cannot."
   ]
  },
  {
   "cell_type": "code",
   "execution_count": null,
   "id": "5afb2551",
   "metadata": {},
   "outputs": [],
   "source": []
  },
  {
   "cell_type": "markdown",
   "id": "27f9381e",
   "metadata": {},
   "source": [
    "### 2. How will you deal with Categorical Independent Variable?\n",
    "#### There are many ways to encode categorical variables for modeling, although the three most common are as follows:\n",
    "1. Integer Encoding/Label Encoding: Where each unique label is mapped to an integer.\n",
    "2. One Hot Encoding: Where each label is mapped to a binary vector.\n",
    "3. Learned Embedding: Where a distributed representation of the categories is learned."
   ]
  },
  {
   "cell_type": "code",
   "execution_count": null,
   "id": "f5494d2f",
   "metadata": {},
   "outputs": [],
   "source": []
  },
  {
   "cell_type": "markdown",
   "id": "2bcb368e",
   "metadata": {},
   "source": [
    "### 3. What are the key matrices used to check the performance of logistic regression?\n",
    "#### There are many metrics we can use to evaluate Logistic Regression mode,\n",
    "1. Accuracy Score\n",
    "2. AUC ROC Score\n",
    "3. Classification Report\n",
    "4. Confusion Matrix\n",
    "5. Precision, Recall and F1 Score."
   ]
  },
  {
   "cell_type": "code",
   "execution_count": null,
   "id": "e71dfe1e",
   "metadata": {},
   "outputs": [],
   "source": []
  },
  {
   "cell_type": "markdown",
   "id": "96f62b8a",
   "metadata": {},
   "source": [
    "### 4. What is multicollinearity?\n",
    "####  Multicolinearity means that several independent variables in a model are correlated. Multicollinearity can affect the reliability of statistical inferences by making the estimates of the regression coefficients unstable and inflating the standard errors."
   ]
  },
  {
   "cell_type": "code",
   "execution_count": null,
   "id": "3e7b3b3e",
   "metadata": {},
   "outputs": [],
   "source": []
  },
  {
   "cell_type": "markdown",
   "id": "b7fc0beb",
   "metadata": {},
   "source": [
    "### 5. How many kinds of techniques to fill the null values? Explain all of them.\n",
    "#### There are several techniques to fill null values in data. Here are some of them:\n",
    "1. Simply drop: The most simple strategy is to drop the rows with null values if you have a good enough size of data.\n",
    "2. Filling with Suitable Integer: Another very easy and simple way is to fill the null values with Suitable Integer.\n",
    "3. Forward and Backward Fill: This is also a common technique to fill up the null values. Forward fill means, the null value is filled up using the previous value in the series and backward fill means the null value is filled up with the next value in the series.\n",
    "4. Mean and Median Fill: This technique involves filling the null values with either mean or median of the column.\n",
    "5. Mean and Median Fill with Groupby: This technique involves filling the null values with either mean or median of the column grouped by another column.\n",
    "6. Iterative Imputation With a Machine Learning Model: This technique involves using machine learning models like KNN, Random Forest, etc., to predict missing values.\n",
    "You can choose any of these techniques based on your data and requirements."
   ]
  },
  {
   "cell_type": "code",
   "execution_count": null,
   "id": "a73d79d7",
   "metadata": {},
   "outputs": [],
   "source": []
  },
  {
   "cell_type": "markdown",
   "id": "38538856",
   "metadata": {},
   "source": [
    "### 6. What is the formula of the sigmoid function and why do we use it?\n",
    "#### The formula for the sigmoid function is: `σ(x) = 1 / (1 + e^-x)`. The sigmoid function creates an S-shaped curve with a minimum value approaching zero and a maximum value approaching 1."
   ]
  },
  {
   "cell_type": "code",
   "execution_count": null,
   "id": "4073e1dc",
   "metadata": {},
   "outputs": [],
   "source": []
  },
  {
   "cell_type": "markdown",
   "id": "040e4617",
   "metadata": {},
   "source": [
    "### 7. What is the issue of high dimensionality?\n",
    "#### In machine learning, high-dimensional data refers to data with a large number of features or variables. The curse of dimensionality is a common problem in machine learning, where the performance of the model decreases as the number of features increases. High-dimensionality might mean hundreds, thousands, or even millions of input variables. To simplify a classification or regression dataset to fit a predictive model better, dimensionality reduction techniques are applied in machine learning.\n",
    "1. The difficulties related to training machine learning models due to high dimensional data are referred to as the 'Curse of Dimensionality'.\n",
    "2. High dimensional data may lead to overfitting in machine learning models, which can lead to poor generalization performance. Dimensionality reduction can help in reducing the complexity of the data, and hence prevent overfitting."
   ]
  },
  {
   "cell_type": "code",
   "execution_count": null,
   "id": "073061c2",
   "metadata": {},
   "outputs": [],
   "source": []
  },
  {
   "cell_type": "markdown",
   "id": "110a9a9c",
   "metadata": {},
   "source": [
    "### 8. Why is logistic regression termed as regression and not classification?\n",
    "#### Logistic regression is called regression and not classification because it predicts the probability (which is continuous) for different classes, rather than predicting a class/category. Logistic regression borrows its name from the logistic function and linear regression algorithm. Linear regression does not work well with classification problems."
   ]
  },
  {
   "cell_type": "code",
   "execution_count": null,
   "id": "4991f837",
   "metadata": {},
   "outputs": [],
   "source": []
  },
  {
   "cell_type": "markdown",
   "id": "893dadf5",
   "metadata": {},
   "source": [
    "### 9. What is a confusion matrix?\n",
    "#### A confusion matrix is a summary of prediction results on a classification problem. It is an` N x N` matrix used for evaluating the performance of a classification model, where N is the number of target classes. The matrix compares the actual target values with those predicted by the machine learning model. The confusion matrix shows the ways in which your classification model is confused when it makes predictions."
   ]
  },
  {
   "cell_type": "code",
   "execution_count": null,
   "id": "4d721a20",
   "metadata": {},
   "outputs": [],
   "source": []
  },
  {
   "cell_type": "markdown",
   "id": "d745613a",
   "metadata": {},
   "source": [
    "### 10. Explain AUC and ROC curve.\n",
    "#### ROC(Receiver operating characteristic) curve is a graph that measures the performance of a classification model by plotting the rate of true positives against false positives. AUC is the area under the ROC curve, and it represents the probability that a classifier will rank a positive instance higher than a negative one. The higher the AUC, the better the model’s performance at distinguishing between the positive and negative classes."
   ]
  },
  {
   "cell_type": "code",
   "execution_count": null,
   "id": "1e2f9ddf",
   "metadata": {},
   "outputs": [],
   "source": []
  }
 ],
 "metadata": {
  "kernelspec": {
   "display_name": "Python 3 (ipykernel)",
   "language": "python",
   "name": "python3"
  },
  "language_info": {
   "codemirror_mode": {
    "name": "ipython",
    "version": 3
   },
   "file_extension": ".py",
   "mimetype": "text/x-python",
   "name": "python",
   "nbconvert_exporter": "python",
   "pygments_lexer": "ipython3",
   "version": "3.9.7"
  }
 },
 "nbformat": 4,
 "nbformat_minor": 5
}
