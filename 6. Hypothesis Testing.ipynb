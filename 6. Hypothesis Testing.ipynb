{
 "cells": [
  {
   "cell_type": "markdown",
   "id": "24c89c6b",
   "metadata": {},
   "source": [
    "### 1. What is null hypothesis and alternate hypothesis?\n",
    "#### The actual test begins by considering two hypotheses. They are called the null hypothesis and the alternative hypothesis. These hypotheses contain opposing viewpoints.\n",
    "- H0: The null hypothesis: It is a statement of no difference between the variables—they are not related. This can often be considered the status quo and as a result if you cannot accept the null it requires some action.\n",
    "- Ha: The alternative hypothesis: It is a claim about the population that is contradictory to  H0 and what we conclude when we reject  H0. This is usually what the researcher is trying to prove."
   ]
  },
  {
   "cell_type": "code",
   "execution_count": null,
   "id": "9c3bf509",
   "metadata": {},
   "outputs": [],
   "source": []
  },
  {
   "cell_type": "markdown",
   "id": "977a084d",
   "metadata": {},
   "source": [
    "### 2. How is the statistical significance of an insight assessed?\n",
    "#### The statistical significance of an insight is assessed using a measurement known as the `p-value`.\n",
    "- The p-value is a function of the means and standard deviations of the data samples. If the p-value falls below the significance level, then the result is statistically significant."
   ]
  },
  {
   "cell_type": "code",
   "execution_count": null,
   "id": "b9bcdd87",
   "metadata": {},
   "outputs": [],
   "source": []
  },
  {
   "cell_type": "markdown",
   "id": "48b7041d",
   "metadata": {},
   "source": [
    "### 3. What is Type-I error and Type-II error?\n",
    "#### Type I and Type II errors are errors that occur in statistical hypothesis testing. A Type I error is a false positive conclusion, meaning that the null hypothesis is rejected when it is actually true. A Type II error is a false negative conclusion, meaning that the null hypothesis is not rejected when it is actually false. These errors are unavoidable in hypothesis testing, but can be controlled by choosing appropriate significance levels and sample sizes."
   ]
  },
  {
   "cell_type": "code",
   "execution_count": null,
   "id": "8aeba89a",
   "metadata": {},
   "outputs": [],
   "source": []
  },
  {
   "cell_type": "markdown",
   "id": "012a4e15",
   "metadata": {},
   "source": [
    "### 4. What does a 95% confidence interval mean?\n",
    "#### A 95% confidence interval is a range of values that you can be 95% certain contains the true mean of the population. It is calculated by using the mean and standard error of the sample. A 95% confidence interval means that if you repeat the same survey or experiment many times with different samples, 95% of the intervals you get will include the true population mean."
   ]
  },
  {
   "cell_type": "code",
   "execution_count": null,
   "id": "60d2323a",
   "metadata": {},
   "outputs": [],
   "source": []
  },
  {
   "cell_type": "markdown",
   "id": "f3e63d0e",
   "metadata": {},
   "source": [
    "### 5. What is A/B testing?\n",
    "#### A/B testing (also known as bucket testing, split-run testing, or split testing) is a user experience research methodology. A/B tests consist of a randomized experiment that usually involves two variants (A and B), although the concept can be also extended to multiple variants of the same variable. It includes application of statistical hypothesis testing or \"two-sample hypothesis testing\" as used in the field of statistics. A/B testing is a way to compare multiple versions of a single variable, for example by testing a subject's response to variant A against variant B, and determining which of the variants is more effective."
   ]
  },
  {
   "cell_type": "code",
   "execution_count": null,
   "id": "f85ed184",
   "metadata": {},
   "outputs": [],
   "source": []
  },
  {
   "cell_type": "markdown",
   "id": "a83b2168",
   "metadata": {},
   "source": [
    "### 6. How to decide if a hypothesis test is a One-Tailed Test or a Two Tailed Test?\n",
    "#### A hypothesis test can be one or two tailed depending on the sign of the alternative hypothesis. A one-tailed test looks for an increase or decrease in the parameter, and the alternative hypothesis contains either < or > sign. A two-tailed test looks for any change in the parameter, and the alternative hypothesis contains the ≠ sign. The alpha level, which is the probability of rejecting the null hypothesis when it is true, is divided by two in a two-tailed test and placed in both tails."
   ]
  },
  {
   "cell_type": "code",
   "execution_count": null,
   "id": "f9c2c0e7",
   "metadata": {},
   "outputs": [],
   "source": []
  },
  {
   "cell_type": "markdown",
   "id": "d5761f03",
   "metadata": {},
   "source": [
    "### 7. What is Chi-Square Test for normality?\n",
    "#### The chi-square test for normality is an actual hypothesis test , where we examine observed data to choose between two statistical hypotheses: Null hypothesis: Data is sampled from a normal distribution. Alternative hypothesis: Data is not sampled from a normal distribution."
   ]
  },
  {
   "cell_type": "code",
   "execution_count": null,
   "id": "b4577d0e",
   "metadata": {},
   "outputs": [],
   "source": []
  },
  {
   "cell_type": "markdown",
   "id": "af8d35a4",
   "metadata": {},
   "source": [
    "### 8. What is ANNOVA and how it is used?\n",
    "#### ANOVA stands for Analysis of Variance. It is a statistical method used to analyze the differences between the means of two or more groups or treatments. It is often used to determine whether there are any statistically significant differences between the means of different groups. ANOVA compares the variation between group means to the variation within the groups. If the variation between group means is significantly larger than the variation within groups, it suggests a significant difference between the means of the groups."
   ]
  },
  {
   "cell_type": "code",
   "execution_count": null,
   "id": "24ebc981",
   "metadata": {},
   "outputs": [],
   "source": []
  }
 ],
 "metadata": {
  "kernelspec": {
   "display_name": "Python 3 (ipykernel)",
   "language": "python",
   "name": "python3"
  },
  "language_info": {
   "codemirror_mode": {
    "name": "ipython",
    "version": 3
   },
   "file_extension": ".py",
   "mimetype": "text/x-python",
   "name": "python",
   "nbconvert_exporter": "python",
   "pygments_lexer": "ipython3",
   "version": "3.9.7"
  }
 },
 "nbformat": 4,
 "nbformat_minor": 5
}
