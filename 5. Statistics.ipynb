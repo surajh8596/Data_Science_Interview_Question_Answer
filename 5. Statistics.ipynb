{
 "cells": [
  {
   "cell_type": "markdown",
   "id": "fec0e3ea",
   "metadata": {},
   "source": [
    "### 1. What is the difference between descriptive and inferential statistics?\n",
    "#### Descriptive statistics is a term given to the analysis of data that helps to describe, show and summarize data in a meaningful way. Descriptive statistics is very important to present our raw data into meaningful way using numerical calculations or graphs or tables. This type of statistics is applied to already known data. Types of Descriptive Statistics: Measure of Central TendencyMeasure of Variability.\n",
    "####  In inferential statistics, predictions are made by taking any group of data in which you are interested. It can be defined as a random sample of data taken from a population to describe and make inferences about the population. Any group of data that includes all the data you are interested in is known as population. It basically allows you to make predictions by taking a small sample instead of working on the whole population."
   ]
  },
  {
   "cell_type": "code",
   "execution_count": null,
   "id": "e20c4ffa",
   "metadata": {},
   "outputs": [],
   "source": []
  },
  {
   "cell_type": "markdown",
   "id": "1c7e12b6",
   "metadata": {},
   "source": [
    "### 2. What is the probability of throwing two fair dice when the sum is 5 and 8?\n",
    "#### There are 4 ways of rolling a 5 (1 + 4, 4 + 1, 2 + 3, 3 + 2): P (Getting a 5) = 4 / 36 = 1 / 9 Now, there are 7 ways of rolling an 8 (1 + 7, 7 + 1, 2 + 6, 6 + 2, 3 + 5, 5 + 3, 4 + 4) P (Getting an 8) = 7 / 36 = 0.194"
   ]
  },
  {
   "cell_type": "code",
   "execution_count": null,
   "id": "4cf9241a",
   "metadata": {},
   "outputs": [],
   "source": []
  },
  {
   "cell_type": "markdown",
   "id": "e8160f65",
   "metadata": {},
   "source": [
    "### 3. What are some of the properties of a Normal Distribution?\n",
    "#### The properties of normal distribution are123:\n",
    "1. It is symmetric, unimodal, and asymptotic.\n",
    "2. The mean, median, and mode are all equal.\n",
    "3. It has a bell shape, with most of the area concentrated around the mean and rapidly decaying tails.\n",
    "4. It is determined by two parameters: the population mean and population standard deviation.\n",
    "5. 68% of the data falls within 1 standard deviation of the mean."
   ]
  },
  {
   "cell_type": "code",
   "execution_count": null,
   "id": "a93a3689",
   "metadata": {},
   "outputs": [],
   "source": []
  },
  {
   "cell_type": "markdown",
   "id": "9ea0ccfc",
   "metadata": {},
   "source": [
    "### 4. What is Skewness and Kurtosis?\n",
    "#### Kurtosis,\n",
    "- It is a statistical measure that quantifies the shape of a probability distribution. It provides information about the tails and peakedness of the distribution compared to a normal distribution.\n",
    "- Positive kurtosis indicates heavier tails and a more peaked distribution, while negative kurtosis suggests lighter tails and a flatter distribution. Kurtosis helps in analyzing the characteristics and outliers of a dataset.\n",
    "- The measure of Kurtosis refers to the tailedness of a distribution. Tailedness refres how often the outliers occur. Excess kurtosis irelative to a normal distribution.\n",
    "#### Skewness,\n",
    "- Skewness is a statistical measure that assesses the asymmetry of a probability distribution. It quantifies the extent to which the data is skewed or shifted to one side.\n",
    "- Positive skewness indicates a longer tail on the right side of the distribution, while negative skewness indicates a longer tail on the left side. Skewness helps in understanding the shape and outliers in a dataset."
   ]
  },
  {
   "cell_type": "code",
   "execution_count": null,
   "id": "bd4fb6b9",
   "metadata": {},
   "outputs": [],
   "source": []
  },
  {
   "cell_type": "markdown",
   "id": "24ab0266",
   "metadata": {},
   "source": [
    "### 5. What is the relationship between the confidence level and the significance level in statistics?\n",
    "#### The confidence level and the significance level are two complementary concepts in hypothesis testing. The confidence level is the probability that the true value of a parameter is within a certain range of values. The significance level is the probability of rejecting the null hypothesis when it is true.\n",
    "The relationship between the confidence level and the significance level is given by the formula: `Confidence level = 1 - Significance level`"
   ]
  },
  {
   "cell_type": "code",
   "execution_count": null,
   "id": "1725714d",
   "metadata": {},
   "outputs": [],
   "source": []
  },
  {
   "cell_type": "markdown",
   "id": "3afeac0a",
   "metadata": {},
   "source": [
    "### 6. What is the Central Limit Theorem? Explain it. Why is it important?\n",
    "#### The Central Limit Theorem is a statistical principle that states that the mean of a large number of samples from a population is approximately equal to the mean of the population. This theorem is important because it allows us to work with a normal distribution, which is easier to analyze and has many applications. The theorem also enables us to obtain accurate estimates of the population mean from the sample means."
   ]
  },
  {
   "cell_type": "code",
   "execution_count": null,
   "id": "781ac050",
   "metadata": {},
   "outputs": [],
   "source": []
  },
  {
   "cell_type": "markdown",
   "id": "f6e32fe1",
   "metadata": {},
   "source": [
    "### 7. How to screen outliers in a data set using z-score method and Interquartile Range(IQR).\n",
    "#### Outlier detection using Z-Score method,\n",
    "1. The very first step will be setting the upper and lower limit. This range stimulates that every data point will be regarded as an outlier out of this range.\n",
    "- Upper: Mean + 3 * standard deviation.\n",
    "- Lower: MEan – 3 * standard deviation.\n",
    "2. The second step is to detect how many outliers are there in the dataset based on the upper and lower limit.\n",
    "3. The third, where we will finally remove the detected outliers in step 2 using two techniques; we can either go for Trimming or Capping."
   ]
  },
  {
   "cell_type": "code",
   "execution_count": null,
   "id": "ff6a7cdb",
   "metadata": {},
   "outputs": [],
   "source": []
  },
  {
   "cell_type": "markdown",
   "id": "2c1f8830",
   "metadata": {},
   "source": [
    "### 8. What is Poisson Distribution and also explain the meaning of KPI in statistics?\n",
    "#### The Poisson distribution is a discrete probability distribution that expresses the probability of a given number of events occurring in a fixed interval of time or space if these events occur with a known constant mean rate and independently of the time since the last event. It is used in many fields such as business, finance, and science.\n",
    "#### A KPI stands for “Key Performance Indicator.” It is a metric or statistic that you track to measure the progress of your business. A KPI can be anything from customer satisfaction rates to website traffic. It is used to measure your performance (as an individual, department or company) in achieving key goals. They are used to track your goals against business objectives and implement changes as required."
   ]
  },
  {
   "cell_type": "code",
   "execution_count": null,
   "id": "972cac3e",
   "metadata": {},
   "outputs": [],
   "source": []
  }
 ],
 "metadata": {
  "kernelspec": {
   "display_name": "Python 3 (ipykernel)",
   "language": "python",
   "name": "python3"
  },
  "language_info": {
   "codemirror_mode": {
    "name": "ipython",
    "version": 3
   },
   "file_extension": ".py",
   "mimetype": "text/x-python",
   "name": "python",
   "nbconvert_exporter": "python",
   "pygments_lexer": "ipython3",
   "version": "3.9.7"
  }
 },
 "nbformat": 4,
 "nbformat_minor": 5
}
