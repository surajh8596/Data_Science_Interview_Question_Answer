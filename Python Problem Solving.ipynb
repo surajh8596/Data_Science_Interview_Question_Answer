{
 "cells": [
  {
   "cell_type": "markdown",
   "id": "b0f33cf7",
   "metadata": {},
   "source": [
    "### 1. Swap the number without using third varible"
   ]
  },
  {
   "cell_type": "code",
   "execution_count": 1,
   "id": "3ec2d972",
   "metadata": {},
   "outputs": [
    {
     "name": "stdout",
     "output_type": "stream",
     "text": [
      "a= 5 b= 10\n",
      "a= 10 b= 5\n"
     ]
    }
   ],
   "source": [
    "a=5\n",
    "b=10\n",
    "print(\"a=\",a, \"b=\",b)\n",
    "a,b=b,a\n",
    "print(\"a=\",a, \"b=\",b)"
   ]
  },
  {
   "cell_type": "code",
   "execution_count": null,
   "id": "633438c1",
   "metadata": {},
   "outputs": [],
   "source": []
  },
  {
   "cell_type": "markdown",
   "id": "111b6dcb",
   "metadata": {},
   "source": [
    "###  2. Write a Program to extract each digit from an integer in the reverse order.\n",
    "**For example, If the given int is 7536, the output shall be “6 3 5 7“, with a space separating the digits.**"
   ]
  },
  {
   "cell_type": "code",
   "execution_count": 4,
   "id": "8e072b99",
   "metadata": {},
   "outputs": [
    {
     "name": "stdout",
     "output_type": "stream",
     "text": [
      "9 4 8 2 1 5 "
     ]
    }
   ],
   "source": [
    "a=512849\n",
    "b=str(a)[::-1]\n",
    "for i in b:\n",
    "    print(i, end=\" \")"
   ]
  },
  {
   "cell_type": "code",
   "execution_count": null,
   "id": "ad2ea769",
   "metadata": {},
   "outputs": [],
   "source": []
  },
  {
   "cell_type": "markdown",
   "id": "5971c107",
   "metadata": {},
   "source": [
    "### 3.  Write a program that will give you the sum of 3 digits"
   ]
  },
  {
   "cell_type": "code",
   "execution_count": 6,
   "id": "ff37145e",
   "metadata": {},
   "outputs": [
    {
     "name": "stdout",
     "output_type": "stream",
     "text": [
      "436\n",
      "sum= 13\n"
     ]
    }
   ],
   "source": [
    "num=436\n",
    "print(num)\n",
    "a=num%10\n",
    "num=num//10\n",
    "b=num%10\n",
    "c=num//10\n",
    "print(\"sum=\", a+b+c)"
   ]
  },
  {
   "cell_type": "code",
   "execution_count": null,
   "id": "727c27e4",
   "metadata": {},
   "outputs": [],
   "source": []
  },
  {
   "cell_type": "markdown",
   "id": "5224e385",
   "metadata": {},
   "source": [
    "### 4. Write a program that will reverse a four digit number.Also it checks whether the reverse is true."
   ]
  },
  {
   "cell_type": "code",
   "execution_count": 7,
   "id": "1351f795",
   "metadata": {},
   "outputs": [
    {
     "name": "stdout",
     "output_type": "stream",
     "text": [
      "Original Number 6381\n",
      "Reversed Number 1836\n"
     ]
    }
   ],
   "source": [
    "num=6381\n",
    "reverse=str(num)[::-1]\n",
    "print(\"Original Number\", num)\n",
    "print(\"Reversed Number\", int(reverse))"
   ]
  },
  {
   "cell_type": "code",
   "execution_count": null,
   "id": "33a739e6",
   "metadata": {},
   "outputs": [],
   "source": []
  },
  {
   "cell_type": "markdown",
   "id": "cc88629e",
   "metadata": {},
   "source": [
    "### 5.  Write a program to find the euclidean & manhattan distance between two coordinates.\n",
    "**When a(x1,y1), b(x2,y2) then Eclidean Distance, d =sqrt((x2-x1)^2 + (y2-y1)^2)**\n",
    "\n",
    "**When a(x1,y1), b(x2,y2) then Manhattan Distance, d =|x1-x2| + |y1-y2|**"
   ]
  },
  {
   "cell_type": "code",
   "execution_count": 10,
   "id": "77ed48dd",
   "metadata": {},
   "outputs": [
    {
     "data": {
      "text/plain": [
       "2.8284271247461903"
      ]
     },
     "execution_count": 10,
     "metadata": {},
     "output_type": "execute_result"
    }
   ],
   "source": [
    "import math\n",
    "\n",
    "a=(5,2)\n",
    "b=(3,4)\n",
    "math.dist(a, b) # math.dist help to calculate euclidean distance between two points"
   ]
  },
  {
   "cell_type": "code",
   "execution_count": 11,
   "id": "a6534cee",
   "metadata": {},
   "outputs": [],
   "source": [
    "import numpy as np"
   ]
  },
  {
   "cell_type": "code",
   "execution_count": 13,
   "id": "37c5fc40",
   "metadata": {},
   "outputs": [
    {
     "name": "stdout",
     "output_type": "stream",
     "text": [
      "Eclidean_Distance =  2.83\n",
      "Manhattan_Distance =  4\n"
     ]
    }
   ],
   "source": [
    "Eclidean_Distance= np.sqrt((3-5)**2 +(4-2)**2)\n",
    "print(\"Eclidean_Distance = \", round(Eclidean_Distance, 2))\n",
    "Manhattan_Distance= abs(5-3)+abs(2-4)\n",
    "print(\"Manhattan_Distance = \", round(Manhattan_Distance, 2))"
   ]
  },
  {
   "cell_type": "code",
   "execution_count": null,
   "id": "88a5d842",
   "metadata": {},
   "outputs": [],
   "source": []
  },
  {
   "cell_type": "markdown",
   "id": "57f231e1",
   "metadata": {},
   "source": [
    "### 6.  Write a program that will tell whether the given number is divisible by 3 & 6."
   ]
  },
  {
   "cell_type": "code",
   "execution_count": 16,
   "id": "71ab3ee9",
   "metadata": {},
   "outputs": [
    {
     "name": "stdout",
     "output_type": "stream",
     "text": [
      "Enter Number = 48\n",
      "Number is divisible by 3 and 6\n"
     ]
    }
   ],
   "source": [
    "num=int(input(\"Enter Number = \"))\n",
    "if num%3==0 and num%6==0:\n",
    "    print(\"Number is divisible by 3 and 6\")\n",
    "elif num%3==0 and num%6!=0:\n",
    "    print(\"Number is only divisible by 3 and not by 6\")\n",
    "elif num%3!=0 and num%6==0:\n",
    "    print(\"Number is only divisible by 6 and not by 3\")  \n",
    "else:\n",
    "    print(\"Number is divisible not by 3 and 6\")    "
   ]
  },
  {
   "cell_type": "code",
   "execution_count": null,
   "id": "74c78462",
   "metadata": {},
   "outputs": [],
   "source": []
  },
  {
   "cell_type": "markdown",
   "id": "058dd3d4",
   "metadata": {},
   "source": [
    "### 7. Write a program that will take three digits from the user and add the square of each digit."
   ]
  },
  {
   "cell_type": "code",
   "execution_count": 21,
   "id": "d37238ed",
   "metadata": {},
   "outputs": [
    {
     "name": "stdout",
     "output_type": "stream",
     "text": [
      "Enter 3 Digit Number = 534\n",
      "Sum of squre of each digit =  50\n"
     ]
    }
   ],
   "source": [
    "num=int(input(\"Enter 3 Digit Number = \"))\n",
    "a=num%10\n",
    "num=num//10\n",
    "b=num%10\n",
    "num=num//10\n",
    "c=num%10\n",
    "print(\"Sum of squre of each digit = \", sum((a**2,b**2,c**2)))"
   ]
  },
  {
   "cell_type": "code",
   "execution_count": null,
   "id": "f1022828",
   "metadata": {},
   "outputs": [],
   "source": []
  },
  {
   "cell_type": "markdown",
   "id": "9d366d5d",
   "metadata": {},
   "source": [
    "### 8. Write a program that will check whether the three digit number is armstrong number or not.\n",
    "**An Armstrong number is one whose sum of digits raised to the power three equals the number itself. 371, for example, is an Armstrong number because 3**3 + 7**3 + 1**3 =371.**"
   ]
  },
  {
   "cell_type": "code",
   "execution_count": 49,
   "id": "f78fba2f",
   "metadata": {},
   "outputs": [
    {
     "name": "stdout",
     "output_type": "stream",
     "text": [
      "Enter 3 Digit Number = 153\n",
      "Enter number is Armstrong Number\n"
     ]
    }
   ],
   "source": [
    "number=int(input(\"Enter 3 Digit Number = \"))\n",
    "a=number%10\n",
    "num=number//10\n",
    "b=num%10\n",
    "c=num//10\n",
    "if (a**3+b**3+c**3)==number:\n",
    "    print(\"Enter number is Armstrong Number\")\n",
    "else:\n",
    "    print(\"Enter number is not Armstrong Number\")"
   ]
  },
  {
   "cell_type": "code",
   "execution_count": null,
   "id": "4414e063",
   "metadata": {},
   "outputs": [],
   "source": []
  },
  {
   "cell_type": "markdown",
   "id": "b1162278",
   "metadata": {},
   "source": [
    "### 9. Write a program that will check whether the number is prime number or not.\n",
    "**a whole number greater than 1 that cannot be exactly divided by any whole number other than itself and 1 (e.g. 2, 3, 5, 7, 11):**"
   ]
  },
  {
   "cell_type": "code",
   "execution_count": 68,
   "id": "87123892",
   "metadata": {},
   "outputs": [
    {
     "name": "stdout",
     "output_type": "stream",
     "text": [
      "Enter a number = 6\n",
      "6 is not a prime number\n"
     ]
    }
   ],
   "source": [
    "num=int(input(\"Enter a number = \"))\n",
    "flag=False\n",
    "if num==1:\n",
    "    flag=True\n",
    "elif num>1:\n",
    "    for i in range(2, num):\n",
    "        if num%i==0:\n",
    "            flag=True\n",
    "            break\n",
    "if flag:\n",
    "    print(f\"{num} is not a prime number\")\n",
    "else:\n",
    "    print(f\"{num} is a prime number\")"
   ]
  },
  {
   "cell_type": "code",
   "execution_count": null,
   "id": "a8ca3c96",
   "metadata": {},
   "outputs": [],
   "source": []
  },
  {
   "cell_type": "markdown",
   "id": "4a849a19",
   "metadata": {},
   "source": [
    "### 10. Convert decimal number to octal"
   ]
  },
  {
   "cell_type": "code",
   "execution_count": 74,
   "id": "e4ab32c1",
   "metadata": {},
   "outputs": [
    {
     "name": "stdout",
     "output_type": "stream",
     "text": [
      "Enter decimal number = 1234\n",
      "Octal Number = 22\n"
     ]
    }
   ],
   "source": [
    "num=int(input(\"Enter decimal number = \"))\n",
    "octal=oct(num)[-2::]\n",
    "print(\"Octal Number =\", octal)"
   ]
  },
  {
   "cell_type": "code",
   "execution_count": null,
   "id": "f9c25c05",
   "metadata": {},
   "outputs": [],
   "source": []
  },
  {
   "cell_type": "markdown",
   "id": "f4d4016d",
   "metadata": {},
   "source": [
    "### 11. Print all factors of a number entered by user"
   ]
  },
  {
   "cell_type": "code",
   "execution_count": 78,
   "id": "f5a6510a",
   "metadata": {},
   "outputs": [
    {
     "name": "stdout",
     "output_type": "stream",
     "text": [
      "Enter Number =36\n",
      "1 2 3 4 6 9 12 18 36 "
     ]
    }
   ],
   "source": [
    "num=int(input(\"Enter Number =\"))\n",
    "for i in range(1, num+1):\n",
    "    if num%i==0:\n",
    "        print(i, end=\" \")"
   ]
  },
  {
   "cell_type": "code",
   "execution_count": null,
   "id": "72a81385",
   "metadata": {},
   "outputs": [],
   "source": []
  },
  {
   "cell_type": "markdown",
   "id": "e8e71d6d",
   "metadata": {},
   "source": [
    "### 12.  Accept a list of 5 float numbers as an input from the user."
   ]
  },
  {
   "cell_type": "code",
   "execution_count": 86,
   "id": "dba339bf",
   "metadata": {},
   "outputs": [
    {
     "name": "stdout",
     "output_type": "stream",
     "text": [
      "Enter 5 float numbers = 45.4 64.5 42.4 52.5 53.4\n",
      "['45.4', '64.5', '42.4', '52.5', '53.4']\n"
     ]
    }
   ],
   "source": [
    "my_list=input(\"Enter 5 float numbers = \").split(\" \")\n",
    "print(my_list)"
   ]
  },
  {
   "cell_type": "code",
   "execution_count": 84,
   "id": "d53453d4",
   "metadata": {},
   "outputs": [
    {
     "name": "stdout",
     "output_type": "stream",
     "text": [
      "Enter 5 float numbers = 45.3\n",
      "Enter 5 float numbers = 43.2\n",
      "Enter 5 float numbers = 23.5\n",
      "Enter 5 float numbers = 55.5\n",
      "Enter 5 float numbers = 53.5\n"
     ]
    },
    {
     "data": {
      "text/plain": [
       "[45.3, 43.2, 23.5, 55.5, 53.5]"
      ]
     },
     "execution_count": 84,
     "metadata": {},
     "output_type": "execute_result"
    }
   ],
   "source": [
    "my_list=[]\n",
    "while len(my_list)<5:\n",
    "    a=float(input(\"Enter 5 float numbers = \"))\n",
    "    my_list.append(a)\n",
    "my_list"
   ]
  },
  {
   "cell_type": "code",
   "execution_count": null,
   "id": "820cb438",
   "metadata": {},
   "outputs": [],
   "source": []
  },
  {
   "cell_type": "markdown",
   "id": "ce148cdb",
   "metadata": {},
   "source": [
    "### 13. Print the sum of the current number and the previous number Write a program to iterate the first 10 numbers and in each iteration, print the sum of the current and previous number.\n",
    "Expected result: 0,1,3,5,7,9,11,13,15,17,19"
   ]
  },
  {
   "cell_type": "code",
   "execution_count": 95,
   "id": "66c23613",
   "metadata": {},
   "outputs": [
    {
     "name": "stdout",
     "output_type": "stream",
     "text": [
      "1 3 5 7 9 11 13 15 17 19 "
     ]
    }
   ],
   "source": [
    "prev_num=0\n",
    "\n",
    "for i in range(1, 11):\n",
    "    total=prev_num+i\n",
    "    prev_num=i\n",
    "    print(total, end=\" \")"
   ]
  },
  {
   "cell_type": "code",
   "execution_count": null,
   "id": "86f0031c",
   "metadata": {},
   "outputs": [],
   "source": []
  },
  {
   "cell_type": "markdown",
   "id": "3891b050",
   "metadata": {},
   "source": [
    "### 14. : Write a python program to search a given number from a list"
   ]
  },
  {
   "cell_type": "code",
   "execution_count": 100,
   "id": "71348123",
   "metadata": {},
   "outputs": [
    {
     "name": "stdout",
     "output_type": "stream",
     "text": [
      "Number to be searched = 101\n",
      "Number not found\n"
     ]
    }
   ],
   "source": [
    "my_list=[1,2,3,4,5,6,7,8,9,0,12,14,15,16,23,24,26,27,28,31,53,75,74,99,88,77,66,55,44,33,22,11]\n",
    "num=int(input(\"Number to be searched = \"))\n",
    "for i in my_list:\n",
    "    if i==num:\n",
    "        print('Number Found')\n",
    "        break\n",
    "else:\n",
    "    print(\"Number not found\")"
   ]
  },
  {
   "cell_type": "code",
   "execution_count": null,
   "id": "cbff4914",
   "metadata": {},
   "outputs": [],
   "source": []
  },
  {
   "cell_type": "markdown",
   "id": "00bfbcde",
   "metadata": {},
   "source": [
    "### 15. Write a program to find the simple interest when the value of principle, rate of interest and time period is given.\n",
    "Simple_interest=(P*R*T)/100"
   ]
  },
  {
   "cell_type": "code",
   "execution_count": 101,
   "id": "08f40533",
   "metadata": {},
   "outputs": [
    {
     "name": "stdout",
     "output_type": "stream",
     "text": [
      "Principle Amount = 10500.50\n",
      "Rate of Interest = 12.5\n",
      "Time period in year = 5\n",
      "Simple Interest is 6562.8125\n"
     ]
    }
   ],
   "source": [
    "p=float(input(\"Principle Amount = \"))\n",
    "r=float(input(\"Rate of Interest = \"))\n",
    "t=int(input(\"Time period in year = \"))\n",
    "simple_interest=(p*t*r)/100\n",
    "print(f\"Simple Interest is {simple_interest}\")"
   ]
  },
  {
   "cell_type": "code",
   "execution_count": null,
   "id": "7dc4a4a3",
   "metadata": {},
   "outputs": [],
   "source": []
  },
  {
   "cell_type": "markdown",
   "id": "1fa79cfc",
   "metadata": {},
   "source": [
    "### 16. Write a program to find the volume of the cylinder. Also find the cost when ,when the cost of 1litre milk is 40Rs.\n",
    "volume=pi* radius^2 * height\n",
    "\n",
    "1 cm3=0.001 litre"
   ]
  },
  {
   "cell_type": "code",
   "execution_count": 106,
   "id": "f967e840",
   "metadata": {},
   "outputs": [
    {
     "name": "stdout",
     "output_type": "stream",
     "text": [
      "Enter the radius of cylinder in cm = 12.5\n",
      "Enter the height of cylinder in cm = 3.4\n",
      "volume of the cylinder is in cm3 =  1668.9710972195776\n",
      "cost of the milk is Rs =  66.7588438887831\n"
     ]
    }
   ],
   "source": [
    "radius=float(input(\"Enter the radius of cylinder in cm = \"))\n",
    "height=float(input(\"Enter the height of cylinder in cm = \"))\n",
    "volume=math.pi*radius**2*height\n",
    "print(\"volume of the cylinder is in cm3 = \", volume)\n",
    "print(\"cost of the milk is Rs = \", (volume*0.001)*40)"
   ]
  },
  {
   "cell_type": "code",
   "execution_count": null,
   "id": "d6b9efde",
   "metadata": {},
   "outputs": [],
   "source": []
  },
  {
   "cell_type": "markdown",
   "id": "53b4d145",
   "metadata": {},
   "source": [
    "### 17.  Check Palindrome Number Write a program to check if the given number is a palindrome number.\n",
    "A palindrome number is a number that is same after reverse. For example 545, is the palindrome numbers"
   ]
  },
  {
   "cell_type": "code",
   "execution_count": 110,
   "id": "65c7b316",
   "metadata": {},
   "outputs": [
    {
     "name": "stdout",
     "output_type": "stream",
     "text": [
      "Enter number = 1234321\n",
      "Entered number is palandrome\n"
     ]
    }
   ],
   "source": [
    "num=int(input(\"Enter number = \"))\n",
    "reverse=int(str(num)[::-1])\n",
    "if num==reverse:\n",
    "    print(\"Entered number is palandrome\")\n",
    "else:\n",
    "    print(\"Number is not palindrome\")"
   ]
  },
  {
   "cell_type": "code",
   "execution_count": null,
   "id": "7f53f505",
   "metadata": {},
   "outputs": [],
   "source": []
  },
  {
   "cell_type": "markdown",
   "id": "a124ca37",
   "metadata": {},
   "source": [
    "### 18. write a program to create a new list such that the new list should contain odd numbers from the first list and even numbers from the second list."
   ]
  },
  {
   "cell_type": "code",
   "execution_count": 112,
   "id": "2ce2d103",
   "metadata": {},
   "outputs": [
    {
     "data": {
      "text/plain": [
       "[1, 3, 5, 7, 9, 22, 44, 66, 88]"
      ]
     },
     "execution_count": 112,
     "metadata": {},
     "output_type": "execute_result"
    }
   ],
   "source": [
    "list_1=[1,2,3,4,5,6,7,8,9,10]\n",
    "list_2=[11,22,33,44,55,66,77,88,99,111]\n",
    "list_3=[]\n",
    "for i in list_1:\n",
    "    if i%2!=0:\n",
    "        list_3.append(i)\n",
    "for i in list_2:\n",
    "    if i%2==0:\n",
    "        list_3.append(i)\n",
    "        \n",
    "list_3"
   ]
  },
  {
   "cell_type": "code",
   "execution_count": null,
   "id": "865d7581",
   "metadata": {},
   "outputs": [],
   "source": []
  },
  {
   "cell_type": "markdown",
   "id": "7e2ba5a1",
   "metadata": {},
   "source": [
    "### 19. The current population of a town is 10000. The population of the town is increasing at the rate of 10% per year. You have to write a program to find out the population at the end of each of the last 10 years. For eg current population is 10000 so the output should be like this:\n",
    "#10th year - 10000\n",
    "#9th year - 9000\n",
    "#8th year - 8100 and so on"
   ]
  },
  {
   "cell_type": "code",
   "execution_count": 6,
   "id": "9ec06a5c",
   "metadata": {},
   "outputs": [
    {
     "name": "stdout",
     "output_type": "stream",
     "text": [
      "Popolation 1 year ago 9000\n",
      "Popolation 2 year ago 8100\n",
      "Popolation 3 year ago 7290\n",
      "Popolation 4 year ago 6561\n",
      "Popolation 5 year ago 5904\n",
      "Popolation 6 year ago 5314\n",
      "Popolation 7 year ago 4782\n",
      "Popolation 8 year ago 4304\n",
      "Popolation 9 year ago 3874\n",
      "Popolation 10 year ago 3486\n"
     ]
    }
   ],
   "source": [
    "current_population=10000\n",
    "rate=0.1 #10%\n",
    "for i in range(1,11):\n",
    "    current_population=current_population-current_population*0.1\n",
    "    print(f\"Popolation {i} year ago\", int(current_population))"
   ]
  },
  {
   "cell_type": "code",
   "execution_count": null,
   "id": "19e215a6",
   "metadata": {},
   "outputs": [],
   "source": []
  },
  {
   "cell_type": "markdown",
   "id": "8debe398",
   "metadata": {},
   "source": [
    "### 20.  Write a program to print all the unique combinations of two digits from 1 to 4.\n",
    "for ex (1,2), (2,3)....."
   ]
  },
  {
   "cell_type": "code",
   "execution_count": 16,
   "id": "10804f6c",
   "metadata": {},
   "outputs": [
    {
     "name": "stdout",
     "output_type": "stream",
     "text": [
      "(1,1), (1,2), (1,3), (1,4), (2,1), (2,2), (2,3), (2,4), (3,1), (3,2), (3,3), (3,4), (4,1), (4,2), (4,3), (4,4), "
     ]
    }
   ],
   "source": [
    "for i in range(1,5):\n",
    "    for j in range(1,5):\n",
    "        print(f\"({i},{j})\", end=\", \")"
   ]
  },
  {
   "cell_type": "code",
   "execution_count": null,
   "id": "38b923f2",
   "metadata": {},
   "outputs": [],
   "source": []
  },
  {
   "cell_type": "markdown",
   "id": "e60515ff",
   "metadata": {},
   "source": [
    "### 21. User will provide 2 numbers you have to find the HCF of those 2 numbers"
   ]
  },
  {
   "cell_type": "code",
   "execution_count": 19,
   "id": "e4cd1c53",
   "metadata": {},
   "outputs": [
    {
     "name": "stdout",
     "output_type": "stream",
     "text": [
      "enter the number: 16\n",
      "enter the number: 32\n",
      "HCF of given two number is  16\n"
     ]
    }
   ],
   "source": [
    "x=int(input(\"enter the number: \"))\n",
    "y=int(input(\"enter the number: \"))\n",
    "\n",
    "x_perfect_divisor=[]\n",
    "y_perfect_divisor=[]\n",
    "\n",
    "for i in range(1,x+1):\n",
    "     if x%i==0:\n",
    "        x_perfect_divisor.append(i)\n",
    "        \n",
    "for i in range(1,y+1):\n",
    "    if y%i==0:\n",
    "        y_perfect_divisor.append(i)\n",
    "\n",
    "HCF=[]\n",
    "for i in x_perfect_divisor:\n",
    "     if i in y_perfect_divisor:\n",
    "        HCF.append(i)\n",
    "\n",
    "print(\"HCF of given two number is \",max(HCF))"
   ]
  },
  {
   "cell_type": "code",
   "execution_count": null,
   "id": "a1b67f09",
   "metadata": {},
   "outputs": [],
   "source": []
  },
  {
   "cell_type": "markdown",
   "id": "6e6a5da7",
   "metadata": {},
   "source": [
    "### 22.  User will provide 2 numbers you have to find the by LCM of those 2 numbers"
   ]
  },
  {
   "cell_type": "code",
   "execution_count": 23,
   "id": "7fe329d6",
   "metadata": {},
   "outputs": [
    {
     "name": "stdout",
     "output_type": "stream",
     "text": [
      "enter the first number: 56\n",
      "enter the second number: 45\n",
      "2520\n"
     ]
    }
   ],
   "source": [
    "x=int(input(\"enter the first number: \"))\n",
    "y=int(input(\"enter the second number: \"))\n",
    "if x>y:\n",
    "    bigger=x\n",
    "else:\n",
    "    bigger=y\n",
    "\n",
    "    \n",
    "while(True):\n",
    "    if (bigger%x==0) and (bigger%y==0):\n",
    "        LCM=bigger\n",
    "        break\n",
    "    bigger=bigger+1\n",
    "        \n",
    "print(LCM)"
   ]
  },
  {
   "cell_type": "code",
   "execution_count": null,
   "id": "d1357bce",
   "metadata": {},
   "outputs": [],
   "source": []
  },
  {
   "cell_type": "markdown",
   "id": "f78142a9",
   "metadata": {},
   "source": [
    "### 23. Write a program that take a user input of three angles and will find out whether it can form a triangle or not."
   ]
  },
  {
   "cell_type": "code",
   "execution_count": 31,
   "id": "24488197",
   "metadata": {},
   "outputs": [
    {
     "name": "stdout",
     "output_type": "stream",
     "text": [
      "1st angle of triangle: 60\n",
      "2nd angle of triangle: 40\n",
      "3rd angle of triangle: 100\n",
      "Triangle cannot be formed\n"
     ]
    }
   ],
   "source": [
    "a=float(input(\"1st angle of triangle: \"))\n",
    "b=float(input(\"2nd angle of triangle: \"))\n",
    "c=float(input(\"3rd angle of triangle: \"))\n",
    "if a+b+c==180 and a!=0 and b!=0 and c!=0:\n",
    "    print(\"Triangle can be formed\")\n",
    "else:\n",
    "    print(\"Triangle cannot be formed\")"
   ]
  },
  {
   "cell_type": "code",
   "execution_count": null,
   "id": "16fa25ad",
   "metadata": {},
   "outputs": [],
   "source": []
  },
  {
   "cell_type": "markdown",
   "id": "4ca74aff",
   "metadata": {},
   "source": [
    "### 24. :Write a program that will determine weather, when the value of temperature and humidity is provided by the user."
   ]
  },
  {
   "cell_type": "raw",
   "id": "4d2bfebd",
   "metadata": {},
   "source": [
    "TEMPERATURE(C)|  HUMIDITY(%)   |     WEATHER\n",
    "  >=30        |    >=90        |   Hot and Humid\n",
    "  >=30        |    <90         |      Hot\n",
    "  <30         |    >=90        |  Cool and Humid\n",
    "  <30         |    <90         |     Cool"
   ]
  },
  {
   "cell_type": "code",
   "execution_count": 32,
   "id": "020438e6",
   "metadata": {},
   "outputs": [
    {
     "name": "stdout",
     "output_type": "stream",
     "text": [
      "Enter temperature in C = 24\n",
      "Enter humidity in % = 60\n",
      "Weather is Cool\n"
     ]
    }
   ],
   "source": [
    "temperature=int(input(\"Enter temperature in C = \"))\n",
    "humidity=int(input(\"Enter humidity in % = \"))\n",
    "\n",
    "if temperature>=30 and humidity>=90:\n",
    "    print(\"Weather is Hot and Humid\")\n",
    "elif temperature>=30 and humidity<90:\n",
    "    print(\"Weather is Hot\")\n",
    "elif temperature<30 and humidity>=90:\n",
    "    print(\"Weather is Cool and Humid\") \n",
    "else:\n",
    "    print(\"Weather is Cool\")"
   ]
  },
  {
   "cell_type": "code",
   "execution_count": null,
   "id": "4e2cf18e",
   "metadata": {},
   "outputs": [],
   "source": []
  },
  {
   "cell_type": "markdown",
   "id": "dbca6ea2",
   "metadata": {},
   "source": [
    "### 25. Write a program that will take user input of cost price and selling price and determines whether its a loss or a profit."
   ]
  },
  {
   "cell_type": "code",
   "execution_count": 34,
   "id": "54b22402",
   "metadata": {},
   "outputs": [
    {
     "name": "stdout",
     "output_type": "stream",
     "text": [
      "Enter the cost price of product in Rs = 34000\n",
      "Enter the selling price of product in Rs = 34506\n",
      "Encored Profit of  506.0\n"
     ]
    }
   ],
   "source": [
    "cost_price=float(input(\"Enter the cost price of product in Rs = \"))\n",
    "selling_price=float(input(\"Enter the selling price of product in Rs = \"))\n",
    "if cost_price>selling_price:\n",
    "    print(\"Encored Loss of \", cost_price-selling_price)\n",
    "else:\n",
    "    print(\"Encored Profit of \", selling_price-cost_price)"
   ]
  },
  {
   "cell_type": "code",
   "execution_count": null,
   "id": "9591cde5",
   "metadata": {},
   "outputs": [],
   "source": []
  },
  {
   "cell_type": "markdown",
   "id": "bb5cc60b",
   "metadata": {},
   "source": [
    "### 26. Write a program that will give you the in hand salary after deduction."
   ]
  },
  {
   "cell_type": "raw",
   "id": "1228294c",
   "metadata": {},
   "source": [
    "Deductions are HRA(10%),DA(5%), PF(3%), and tax\n",
    "   Salary   |   Tax\n",
    "5-10 lakh   |   10%\n",
    "11-20lakh   |   20%\n",
    ">20 Lakh    |   30%"
   ]
  },
  {
   "cell_type": "code",
   "execution_count": 38,
   "id": "2728a0dd",
   "metadata": {},
   "outputs": [
    {
     "name": "stdout",
     "output_type": "stream",
     "text": [
      "enter the salary amount: 500000\n",
      "Salary after tax cutting 450000.0\n",
      "In hand salary after tax/HRA/DA/PF cutting 3.69 Lakh\n"
     ]
    }
   ],
   "source": [
    "salary=int(input(\"enter the salary amount: \"))\n",
    "if salary in range(500000,1000000):\n",
    "    salary=salary-salary*0.1\n",
    "elif salary in range(1100000,2000000):\n",
    "    salary=salary-salary*0.2\n",
    "elif salary> 2000000:\n",
    "    salary=salary-salary*0.3\n",
    "else:\n",
    "    print(\"no tax\")\n",
    "    \n",
    "print(\"Salary after tax cutting\",salary)\n",
    "\n",
    "\n",
    "HRA=salary*0.10\n",
    "DA=salary*0.05\n",
    "PF=salary*0.03\n",
    "remain=salary-(HRA+DA+PF)\n",
    "\n",
    "if remain in range(1000,99999):\n",
    "    print(\"In hand salary after tax/HRA/DA/PF cutting\",remain/1000,\"K\")\n",
    "elif remain in range(100000,9999999):\n",
    "    print(\"In hand salary after tax/HRA/DA/PF cutting\",remain/100000,\"Lakh\")\n",
    "else:\n",
    "    print(\"in hand salary after tax/HRA/DA/PF cutting\",remain/10000000,\"Cr\")"
   ]
  },
  {
   "cell_type": "code",
   "execution_count": null,
   "id": "57107507",
   "metadata": {},
   "outputs": [],
   "source": []
  },
  {
   "cell_type": "markdown",
   "id": "6d200438",
   "metadata": {},
   "source": [
    "### 27. Write program for unit converter. INR to Dollar, KM to Miles and CM to feet"
   ]
  },
  {
   "cell_type": "code",
   "execution_count": 9,
   "id": "55b949af",
   "metadata": {},
   "outputs": [
    {
     "name": "stdout",
     "output_type": "stream",
     "text": [
      "Select Conversion option:\n",
      "1 for INR to Dollar\n",
      "2 for KM to Miles\n",
      "3 for CM to Feet\n",
      "Your Option: 3\n",
      "Enter height in CM = 160\n",
      "160.0 CM equala to 5.25 Feet\n"
     ]
    }
   ],
   "source": [
    "option=int(input(\"Select Conversion option:\\n1 for INR to Dollar\\n2 for KM to Miles\\n3 for CM to Feet\\nYour Option: \"))\n",
    "if option==1:\n",
    "    rupee=float(input(\"Enter Currency in INR = \"))\n",
    "    dollar=round(rupee/82.08,2)\n",
    "    print(f\"{rupee} INR equal to {dollar} Dollar\")\n",
    "elif option==2:\n",
    "    km=float(input(\"Enter distance in KM = \"))\n",
    "    miles=round(km*0.62137119,2)\n",
    "    print(f\"{km} KM equal to {miles} Miles\")\n",
    "elif option==3:\n",
    "    cm=float(input(\"Enter height in CM = \"))\n",
    "    feet=round(cm*0.0328084, 2)\n",
    "    print(f\"{cm} CM equala to {feet} Feet\")\n",
    "else:\n",
    "    print(\"Enter Valid option\")"
   ]
  },
  {
   "cell_type": "code",
   "execution_count": null,
   "id": "11eea643",
   "metadata": {},
   "outputs": [],
   "source": []
  },
  {
   "cell_type": "markdown",
   "id": "672da1e2",
   "metadata": {},
   "source": [
    "### 28. Write a program to find the sum of first n numbers, where n will be provided by the user."
   ]
  },
  {
   "cell_type": "code",
   "execution_count": 15,
   "id": "72d66053",
   "metadata": {},
   "outputs": [
    {
     "name": "stdout",
     "output_type": "stream",
     "text": [
      "Enter the number = 11\n",
      "Sum of 11 numbers is 66\n"
     ]
    }
   ],
   "source": [
    "n=int(input(\"Enter the number = \"))\n",
    "total=0\n",
    "for i in range(1, n+1):\n",
    "    total=total+i\n",
    "print(f\"Sum of {n} numbers is {total}\")"
   ]
  },
  {
   "cell_type": "code",
   "execution_count": null,
   "id": "06af78d2",
   "metadata": {},
   "outputs": [],
   "source": []
  },
  {
   "cell_type": "markdown",
   "id": "b184bda0",
   "metadata": {},
   "source": [
    "### 29.  Write a program that can multiply 2 numbers provided by the user without using the * operator."
   ]
  },
  {
   "cell_type": "code",
   "execution_count": 23,
   "id": "8a55ac52",
   "metadata": {},
   "outputs": [
    {
     "name": "stdout",
     "output_type": "stream",
     "text": [
      "Enter 1st number = 2\n",
      "Enter 2nd number = 10\n",
      "Multiplication of 2 and 10 is 20\n"
     ]
    }
   ],
   "source": [
    "num1=int(input(\"Enter 1st number = \"))\n",
    "num2=int(input(\"Enter 2nd number = \"))\n",
    "total=0\n",
    "for i in range(0, num2):\n",
    "    total=total+num1\n",
    "print(f\"Multiplication of {num1} and {num2} is {total}\")"
   ]
  },
  {
   "cell_type": "code",
   "execution_count": null,
   "id": "fa23b660",
   "metadata": {},
   "outputs": [],
   "source": []
  },
  {
   "cell_type": "markdown",
   "id": "e379060e",
   "metadata": {},
   "source": [
    "### 30. :Write a program that can find the factorial of a given number provided by the user."
   ]
  },
  {
   "cell_type": "code",
   "execution_count": 35,
   "id": "c9f49e2d",
   "metadata": {},
   "outputs": [
    {
     "name": "stdout",
     "output_type": "stream",
     "text": [
      "Enter a number = 4\n",
      "Factorial of 4 is 24\n"
     ]
    }
   ],
   "source": [
    "n=int(input(\"Enter a number = \"))\n",
    "fact=1\n",
    "if n<0:\n",
    "    print(\"Please provide positive numbers\")\n",
    "elif n==0 or n==1:\n",
    "    print(f\"Factorial of {n} is {fact}\")\n",
    "elif n>1:\n",
    "    for i in range(1, n+1):\n",
    "        fact=fact*i\n",
    "    print(f\"Factorial of {n} is {fact}\")"
   ]
  },
  {
   "cell_type": "code",
   "execution_count": null,
   "id": "c9d91b5a",
   "metadata": {},
   "outputs": [],
   "source": []
  },
  {
   "cell_type": "markdown",
   "id": "d97b02ac",
   "metadata": {},
   "source": [
    "### 31. Write a program to print multiplication table of a given number in single line."
   ]
  },
  {
   "cell_type": "code",
   "execution_count": 43,
   "id": "5536013c",
   "metadata": {},
   "outputs": [
    {
     "name": "stdout",
     "output_type": "stream",
     "text": [
      "Enter number = 6\n",
      "6 12 18 24 30 36 42 48 54 60 "
     ]
    }
   ],
   "source": [
    "n=int(input(\"Enter number = \"))\n",
    "for i in range(1, 11):\n",
    "    print(n*i, end=\" \")"
   ]
  },
  {
   "cell_type": "code",
   "execution_count": null,
   "id": "ee72842a",
   "metadata": {},
   "outputs": [],
   "source": []
  },
  {
   "cell_type": "markdown",
   "id": "2dedcac3",
   "metadata": {},
   "source": [
    "### 32.  Write a program to display only those numbers from a list that satisfy the following conditions\n",
    "- The number must be divisible by five\n",
    "- If the number is greater than 25, then skip it and move to the next number\n",
    "- If the number is greater than 50, then stop the loop\n",
    "### Display numbers from a list using loop."
   ]
  },
  {
   "cell_type": "code",
   "execution_count": 47,
   "id": "2ae3e1c8",
   "metadata": {},
   "outputs": [
    {
     "name": "stdout",
     "output_type": "stream",
     "text": [
      "5\n",
      "10\n",
      "15\n"
     ]
    }
   ],
   "source": [
    "lst=[1,2,5,10,14,15,35,26,35,55,33,46,12,14,15,20,55,25]\n",
    "\n",
    "for i in lst:\n",
    "    if i>50:\n",
    "        break\n",
    "    elif i >25:\n",
    "        continue\n",
    "    elif i%5==0:\n",
    "        print(i)"
   ]
  },
  {
   "cell_type": "code",
   "execution_count": null,
   "id": "4df741e0",
   "metadata": {},
   "outputs": [],
   "source": []
  },
  {
   "cell_type": "markdown",
   "id": "da2f4a59",
   "metadata": {},
   "source": [
    "### 33. Print list in reverse order using a loop"
   ]
  },
  {
   "cell_type": "code",
   "execution_count": 48,
   "id": "730b804a",
   "metadata": {},
   "outputs": [
    {
     "name": "stdout",
     "output_type": "stream",
     "text": [
      "5 4 3 2 1 "
     ]
    }
   ],
   "source": [
    "l1=[1,2,3,4,5]\n",
    "for i in l1[::-1]:\n",
    "    print(i,end=\" \")"
   ]
  },
  {
   "cell_type": "code",
   "execution_count": null,
   "id": "c8ceaba5",
   "metadata": {},
   "outputs": [],
   "source": []
  },
  {
   "cell_type": "markdown",
   "id": "3122125b",
   "metadata": {},
   "source": [
    "### 34. Display numbers from -10 to -1 using for loop"
   ]
  },
  {
   "cell_type": "code",
   "execution_count": 53,
   "id": "5f426aca",
   "metadata": {},
   "outputs": [
    {
     "name": "stdout",
     "output_type": "stream",
     "text": [
      "-10 -9 -8 -7 -6 -5 -4 -3 -2 -1 "
     ]
    }
   ],
   "source": [
    "for i in range(-10,0):\n",
    "    print(i, end=\" \")"
   ]
  },
  {
   "cell_type": "code",
   "execution_count": null,
   "id": "0c75cd23",
   "metadata": {},
   "outputs": [],
   "source": []
  },
  {
   "cell_type": "markdown",
   "id": "4bdc6b91",
   "metadata": {},
   "source": [
    "### 35. Write a program to display all prime numbers within a range"
   ]
  },
  {
   "cell_type": "code",
   "execution_count": 4,
   "id": "2b77a1f8",
   "metadata": {
    "scrolled": false
   },
   "outputs": [
    {
     "name": "stdout",
     "output_type": "stream",
     "text": [
      "Enter lower range = 100\n",
      "Enter higher range = 200\n",
      "101 103 107 109 113 127 131 137 139 149 151 157 163 167 173 179 181 191 193 197 199 "
     ]
    }
   ],
   "source": [
    "num1=int(input(\"Enter lower range = \"))\n",
    "num2=int(input(\"Enter higher range = \"))\n",
    "\n",
    "prime_numbers=[]\n",
    "for num in range(num1, num2+1):\n",
    "    for i in range(2, num):\n",
    "        if num%i==0:\n",
    "            break\n",
    "    else:\n",
    "        print(num, end=\" \")"
   ]
  },
  {
   "cell_type": "code",
   "execution_count": null,
   "id": "24ae9302",
   "metadata": {},
   "outputs": [],
   "source": []
  },
  {
   "cell_type": "markdown",
   "id": "05c25a61",
   "metadata": {},
   "source": [
    "### 36.  Display Fibonacci series between 0 to number.\n",
    "The first two numbers are 0 and 1."
   ]
  },
  {
   "cell_type": "code",
   "execution_count": 12,
   "id": "86282146",
   "metadata": {},
   "outputs": [
    {
     "name": "stdout",
     "output_type": "stream",
     "text": [
      "Enter lower range = 20\n",
      "0 1 1 2 3 5 8 13 21 34 55 89 144 233 377 610 987 1597 2584 4181 6765 10946 "
     ]
    }
   ],
   "source": [
    "n=int(input(\"Enter lower range = \"))\n",
    "\n",
    "num1=0\n",
    "num2=1\n",
    "print(num1,end=\" \")\n",
    "print(num2,end=\" \")\n",
    "for i in range(0,n):\n",
    "    num3=num1+num2\n",
    "    num1=num2\n",
    "    num2=num3\n",
    "    print(num3,end=\" \")"
   ]
  },
  {
   "cell_type": "code",
   "execution_count": null,
   "id": "d5c00dc2",
   "metadata": {},
   "outputs": [],
   "source": []
  },
  {
   "cell_type": "markdown",
   "id": "dcd72c03",
   "metadata": {},
   "source": [
    "### 37. : Write a program that keeps on accepting a number from the user until the user enters Zero. Display the sum and average of all the numbers."
   ]
  },
  {
   "cell_type": "code",
   "execution_count": 27,
   "id": "478f8dfb",
   "metadata": {},
   "outputs": [
    {
     "name": "stdout",
     "output_type": "stream",
     "text": [
      "Enter 1st number: 10\n",
      "Enter 2st number: 20\n",
      "Enter 3st number: 30\n",
      "Enter 4st number: 50\n",
      "Enter 5st number: 0\n",
      "Enter number other than zero to continue\n",
      "Sum is: 110\n",
      "Average is: 27.5\n"
     ]
    }
   ],
   "source": [
    "n=int(input(\"Enter 1st number: \"))\n",
    "\n",
    "sum_=0\n",
    "avg=0\n",
    "count=0\n",
    "while True:\n",
    "    if n != 0:\n",
    "        sum_=sum_+n\n",
    "        count=count+1\n",
    "        avg=sum_/count\n",
    "        n=int(input(f\"Enter {count+1}st number: \"))\n",
    " \n",
    "    else:\n",
    "        print(\"Enter number other than zero to continue\")\n",
    "        break\n",
    "\n",
    "print(\"Sum is:\",sum_)\n",
    "print(\"Average is:\",round(avg,2))"
   ]
  },
  {
   "cell_type": "code",
   "execution_count": null,
   "id": "840879ac",
   "metadata": {},
   "outputs": [],
   "source": []
  },
  {
   "cell_type": "markdown",
   "id": "a6f764cb",
   "metadata": {},
   "source": [
    "### 38. Write a function called exponent(base, exp) that returns an int value of base raises to the power of exp. Note here exp is a non-negative integer, and the base is an integer."
   ]
  },
  {
   "cell_type": "code",
   "execution_count": 29,
   "id": "4f889216",
   "metadata": {},
   "outputs": [
    {
     "name": "stdout",
     "output_type": "stream",
     "text": [
      "100\n"
     ]
    }
   ],
   "source": [
    "def exponent(base, exp):\n",
    "    print(pow(base, exp))\n",
    "\n",
    "exponent(10,2)"
   ]
  },
  {
   "cell_type": "code",
   "execution_count": null,
   "id": "edcee0fa",
   "metadata": {},
   "outputs": [],
   "source": []
  },
  {
   "cell_type": "markdown",
   "id": "20f39ad0",
   "metadata": {},
   "source": [
    "### 39. Write a program to create a function that takes two arguments, name and age, and print their value."
   ]
  },
  {
   "cell_type": "code",
   "execution_count": 37,
   "id": "85b097f9",
   "metadata": {},
   "outputs": [
    {
     "name": "stdout",
     "output_type": "stream",
     "text": [
      "Name of the person is Suraj and their age is 27\n"
     ]
    }
   ],
   "source": [
    "def personal_info(name, age):\n",
    "    print(\"Name of the person is {} and their age is {}\".format(name, age))\n",
    "    \n",
    "personal_info(\"Suraj\", 27)"
   ]
  },
  {
   "cell_type": "code",
   "execution_count": null,
   "id": "0fce903f",
   "metadata": {},
   "outputs": [],
   "source": []
  },
  {
   "cell_type": "markdown",
   "id": "2c84c876",
   "metadata": {},
   "source": [
    "### 40. Write a function to return True if the first and last number of a given list is same. If numbers are different then return False."
   ]
  },
  {
   "cell_type": "code",
   "execution_count": 40,
   "id": "fc11157b",
   "metadata": {},
   "outputs": [
    {
     "name": "stdout",
     "output_type": "stream",
     "text": [
      "False\n"
     ]
    }
   ],
   "source": [
    "lst=[12,32,14,14,41,51,53,12,15]\n",
    "\n",
    "first=lst[0]\n",
    "last=lst[-1]\n",
    "\n",
    "def similarity(list):\n",
    "    if first==last:\n",
    "        print(True)\n",
    "    else:\n",
    "        print(False)\n",
    "        \n",
    "similarity(lst)"
   ]
  },
  {
   "cell_type": "code",
   "execution_count": null,
   "id": "8ddf9a7e",
   "metadata": {},
   "outputs": [],
   "source": []
  },
  {
   "cell_type": "markdown",
   "id": "ab27c920",
   "metadata": {},
   "source": [
    "### 41. Create a function with variable length of arguments."
   ]
  },
  {
   "cell_type": "code",
   "execution_count": 43,
   "id": "7e62a40e",
   "metadata": {},
   "outputs": [
    {
     "name": "stdout",
     "output_type": "stream",
     "text": [
      "(10, 20, 30, 40, 50)\n"
     ]
    }
   ],
   "source": [
    "def create_list(*numbers):\n",
    "    print(numbers)\n",
    "    \n",
    "create_list(10,20,30,40,50)"
   ]
  },
  {
   "cell_type": "code",
   "execution_count": null,
   "id": "1aac0277",
   "metadata": {},
   "outputs": [],
   "source": []
  },
  {
   "cell_type": "markdown",
   "id": "54e7e629",
   "metadata": {},
   "source": [
    "### 42.  Create a function with a default argument Write a program to create a function employee() using the following conditions.\n",
    "- It should accept the employee’s name and salary and display both. If the salary is missing in the function call then assign default value 9000 to salary"
   ]
  },
  {
   "cell_type": "code",
   "execution_count": 44,
   "id": "5f0d9273",
   "metadata": {},
   "outputs": [
    {
     "name": "stdout",
     "output_type": "stream",
     "text": [
      "Name of the employee is Suraj and their salary is 0\n"
     ]
    }
   ],
   "source": [
    "def employee(name, salary=9000):\n",
    "    print(f\"Name of the employee is {name} and their salary is {salary}\")\n",
    "    \n",
    "employee(\"Suraj\", 0)"
   ]
  },
  {
   "cell_type": "code",
   "execution_count": 46,
   "id": "702baeeb",
   "metadata": {},
   "outputs": [
    {
     "name": "stdout",
     "output_type": "stream",
     "text": [
      "Name of the employee is Siya and their salary is 9000\n"
     ]
    }
   ],
   "source": [
    "employee(\"Siya\")"
   ]
  },
  {
   "cell_type": "code",
   "execution_count": null,
   "id": "0781f8b4",
   "metadata": {},
   "outputs": [],
   "source": []
  },
  {
   "cell_type": "markdown",
   "id": "97607e00",
   "metadata": {},
   "source": [
    "### 43. Create an inner function to calculate the addition in the following way\n",
    "- Create an outer function that will accept two parameters, a and b\n",
    "- Create an inner function inside an outer function that will calculate the addition of a and b\n",
    "- an outer function will add 5 into addition and return it"
   ]
  },
  {
   "cell_type": "code",
   "execution_count": 59,
   "id": "98d8ae23",
   "metadata": {},
   "outputs": [
    {
     "name": "stdout",
     "output_type": "stream",
     "text": [
      "Sum after adding +5 into it is 13\n"
     ]
    }
   ],
   "source": [
    "def outer(a, b):\n",
    "    def inner(a,b):\n",
    "        return a+b\n",
    "    add=inner(a,b)\n",
    "    print(f\"Sum after adding +5 into it is {add+5}\")\n",
    "    \n",
    "outer(5,3)"
   ]
  },
  {
   "cell_type": "code",
   "execution_count": null,
   "id": "b6b0bee5",
   "metadata": {},
   "outputs": [],
   "source": []
  },
  {
   "cell_type": "markdown",
   "id": "bb505f90",
   "metadata": {},
   "source": [
    "### 44. Write a program to create a recursive function to calculate the sum of numbers from 0 to 10.\n",
    "- A recursive function is a function that calls itself again and again."
   ]
  },
  {
   "cell_type": "code",
   "execution_count": 62,
   "id": "ade8c037",
   "metadata": {},
   "outputs": [
    {
     "data": {
      "text/plain": [
       "55"
      ]
     },
     "execution_count": 62,
     "metadata": {},
     "output_type": "execute_result"
    }
   ],
   "source": [
    "def summation(num):\n",
    "     if num==0:\n",
    "        return 0\n",
    "     else:\n",
    "        return num+summation(num-1)\n",
    "\n",
    "summation(10)"
   ]
  },
  {
   "cell_type": "code",
   "execution_count": null,
   "id": "91678048",
   "metadata": {},
   "outputs": [],
   "source": []
  },
  {
   "cell_type": "markdown",
   "id": "7a295436",
   "metadata": {},
   "source": [
    "### 45. Write a program to create a recursive function to calculate the factorial of numbers from 0 to 10."
   ]
  },
  {
   "cell_type": "code",
   "execution_count": 68,
   "id": "07bb6e1b",
   "metadata": {},
   "outputs": [
    {
     "data": {
      "text/plain": [
       "720"
      ]
     },
     "execution_count": 68,
     "metadata": {},
     "output_type": "execute_result"
    }
   ],
   "source": [
    "def factorial(num):\n",
    "    if (num==1):\n",
    "        return 1\n",
    "    else:\n",
    "        return num*factorial(num-1)\n",
    "\n",
    "factorial(6)"
   ]
  },
  {
   "cell_type": "code",
   "execution_count": null,
   "id": "d88128e4",
   "metadata": {},
   "outputs": [],
   "source": []
  },
  {
   "cell_type": "markdown",
   "id": "e59e7524",
   "metadata": {},
   "source": [
    "### 46.  Assign a different name to function and call it through the new name"
   ]
  },
  {
   "cell_type": "code",
   "execution_count": 69,
   "id": "fc99f073",
   "metadata": {},
   "outputs": [
    {
     "data": {
      "text/plain": [
       "120"
      ]
     },
     "execution_count": 69,
     "metadata": {},
     "output_type": "execute_result"
    }
   ],
   "source": [
    "def factorial(num):\n",
    "    if (num==1):\n",
    "        return 1\n",
    "    else:\n",
    "        return num*factorial(num-1)\n",
    "\n",
    "fact_of_num=factorial\n",
    "\n",
    "fact_of_num(5)"
   ]
  },
  {
   "cell_type": "code",
   "execution_count": null,
   "id": "3cb52a8f",
   "metadata": {},
   "outputs": [],
   "source": []
  },
  {
   "cell_type": "markdown",
   "id": "aa7ef60f",
   "metadata": {},
   "source": [
    "### 47. Write a Python program to create a Vehicle class with max_speed and mileage instance attributes."
   ]
  },
  {
   "cell_type": "code",
   "execution_count": 81,
   "id": "3e8be372",
   "metadata": {},
   "outputs": [
    {
     "name": "stdout",
     "output_type": "stream",
     "text": [
      "Max speed is 240  and mileage is 40\n"
     ]
    }
   ],
   "source": [
    "class Vehicle:\n",
    "    def __init__(self, max_speed, mileage):\n",
    "        self.max_speed=max_speed\n",
    "        self.mileage=mileage\n",
    "    \n",
    "        \n",
    "maruti_suzuki=Vehicle(240, 40)\n",
    "print(f\"Max speed is {maruti_suzuki.max_speed}  and mileage is {maruti_suzuki.mileage}\")"
   ]
  },
  {
   "cell_type": "code",
   "execution_count": null,
   "id": "1efdd29f",
   "metadata": {},
   "outputs": [],
   "source": []
  },
  {
   "cell_type": "markdown",
   "id": "6017861f",
   "metadata": {},
   "source": [
    "### 48. Create a child class Bus that will inherit all of the variables and methods of the Vehicle class."
   ]
  },
  {
   "cell_type": "code",
   "execution_count": 15,
   "id": "c5678984",
   "metadata": {},
   "outputs": [
    {
     "name": "stdout",
     "output_type": "stream",
     "text": [
      "Doors=1, Windos=62 and color=yellow\n",
      "Doors=2, Windos=52 and color=light blue\n"
     ]
    }
   ],
   "source": [
    "class Vehicles:\n",
    "    def __init__(self, door, windows, color):\n",
    "        self.door=door\n",
    "        self.windows=windows\n",
    "        self.color=color\n",
    "        \n",
    "class Buss(Vehicles):\n",
    "    pass\n",
    "\n",
    "passanger_bus=Vehicles(1, 62, \"yellow\")\n",
    "school_bus=Vehicles(2, 52, \"light blue\")\n",
    "\n",
    "print(f\"Doors={passanger_bus.door}, Windos={passanger_bus.windows} and color={passanger_bus.color}\")\n",
    "print(f\"Doors={school_bus.door}, Windos={school_bus.windows} and color={school_bus.color}\")"
   ]
  },
  {
   "cell_type": "code",
   "execution_count": null,
   "id": "5535a286",
   "metadata": {},
   "outputs": [],
   "source": []
  },
  {
   "cell_type": "markdown",
   "id": "6828a1de",
   "metadata": {},
   "source": [
    "### 49. Create a Bus class that inherits from the Vehicle class. Give the capacity argument of Bus.seating_capacity() a default value of 50."
   ]
  },
  {
   "cell_type": "code",
   "execution_count": 27,
   "id": "71adb5fb",
   "metadata": {},
   "outputs": [
    {
     "data": {
      "text/plain": [
       "'sitting capacity of bus TATA is 100 passanger'"
      ]
     },
     "execution_count": 27,
     "metadata": {},
     "output_type": "execute_result"
    }
   ],
   "source": [
    "class Vehicles:\n",
    "    def __init__(self, name, door, windows, color):\n",
    "        self.name=name\n",
    "        self.door=door\n",
    "        self.windows=windows\n",
    "        self.color=color\n",
    "    def sitting_capacity(self,capacity):\n",
    "        return f\"sitting capacity of bus {self.name} is {capacity} passanger\"\n",
    "        \n",
    "class Bus(Vehicles):\n",
    "    def sitting_capacity(self,capacity=50):\n",
    "         return super().sitting_capacity(capacity=50)\n",
    "    \n",
    "    \n",
    "tata=Vehicles(\"TATA\", 2, 56, \"Red\")\n",
    "tata.sitting_capacity(100)"
   ]
  },
  {
   "cell_type": "code",
   "execution_count": null,
   "id": "a8b62023",
   "metadata": {},
   "outputs": [],
   "source": []
  },
  {
   "cell_type": "markdown",
   "id": "fd78177f",
   "metadata": {},
   "source": [
    "### 50.  Generate a random Password which meets the following conditions Password length must be10 characters long.\n",
    "- It must contain at least 1 upper case letters, 1 digit, and 1 special symbol"
   ]
  },
  {
   "cell_type": "code",
   "execution_count": 31,
   "id": "3bcb2578",
   "metadata": {},
   "outputs": [
    {
     "name": "stdout",
     "output_type": "stream",
     "text": [
      "password is:  ;r9KPM|?N\n"
     ]
    }
   ],
   "source": [
    "import random\n",
    "import string\n",
    "\n",
    "def randomPassword():\n",
    "    randomSource=string.ascii_letters+string.digits+string.punctuation\n",
    "    password=random.sample(randomSource,6)\n",
    "    password+=random.sample(string.ascii_uppercase,1)\n",
    "    password+=random.choice(string.digits)\n",
    "    password+=random.choice(string.punctuation)\n",
    "\n",
    "    passwordList=list(password)\n",
    "\n",
    "    random.SystemRandom().shuffle(passwordList)\n",
    "    password=\"\".join(passwordList)\n",
    "    return password\n",
    "print(\"password is: \",randomPassword())"
   ]
  },
  {
   "cell_type": "code",
   "execution_count": null,
   "id": "8a73282b",
   "metadata": {},
   "outputs": [],
   "source": []
  }
 ],
 "metadata": {
  "kernelspec": {
   "display_name": "Python 3 (ipykernel)",
   "language": "python",
   "name": "python3"
  },
  "language_info": {
   "codemirror_mode": {
    "name": "ipython",
    "version": 3
   },
   "file_extension": ".py",
   "mimetype": "text/x-python",
   "name": "python",
   "nbconvert_exporter": "python",
   "pygments_lexer": "ipython3",
   "version": "3.9.7"
  }
 },
 "nbformat": 4,
 "nbformat_minor": 5
}
