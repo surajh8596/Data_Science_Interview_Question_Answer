{
 "cells": [
  {
   "cell_type": "markdown",
   "id": "370ff1e4",
   "metadata": {},
   "source": [
    "### 1. What is the significance of Exploratory data analysis?\n",
    "#### Exploratory data analysis helps us to find things like,\n",
    "1. EDA helps to understand our data clearly.\n",
    "2. To get some useful insights.\n",
    "3. EDA helps to find the answers for the questions we are looking for.\n",
    "4. It is possible to find the treand and hidden pattern in the data with the help of EDA. "
   ]
  },
  {
   "cell_type": "code",
   "execution_count": null,
   "id": "fbb9cf99",
   "metadata": {},
   "outputs": [],
   "source": []
  },
  {
   "cell_type": "markdown",
   "id": "37d7fb9c",
   "metadata": {},
   "source": [
    "### 2. What is the difference between dependent and independent variables?\n",
    "#### Dependent variable or target variable or output variables are depends on the input features as the input features changes the output variable/feature also changes. Independent or input features are the one which has independent behavior of change, they do not depends on any features."
   ]
  },
  {
   "cell_type": "code",
   "execution_count": null,
   "id": "aefbc3af",
   "metadata": {},
   "outputs": [],
   "source": []
  },
  {
   "cell_type": "markdown",
   "id": "1897c91d",
   "metadata": {},
   "source": [
    "### 3. What is the difference between Univariate, Bivariate and Multivariate analysis?\n",
    "#### Univariate analysis used to find the trend and patterns in a single variable or column of a dataframe, where Bivariate anaysis is used to check the relationship between the two variables. Multivariate analysis is used to find the relationship between multiple columns."
   ]
  },
  {
   "cell_type": "code",
   "execution_count": null,
   "id": "0f251eaf",
   "metadata": {},
   "outputs": [],
   "source": []
  },
  {
   "cell_type": "markdown",
   "id": "efeec076",
   "metadata": {},
   "source": [
    "### 4. How to perform Bivariate analysis Numerical-numerical, Categorical-Categorical, and Numerical-Categorical variables?\n",
    "#### Plots used for variable Bivariate analysis,\n",
    "1. Numerical-numerical: Best plot is scatter plots.\n",
    "2. Categorical-Categorical: Best plot is crosstab.\n",
    "3. Numerical-Categorical: Best plots are Barplot, Boxplot."
   ]
  },
  {
   "cell_type": "code",
   "execution_count": null,
   "id": "6aa19e2e",
   "metadata": {},
   "outputs": [],
   "source": []
  },
  {
   "cell_type": "markdown",
   "id": "0afa6abe",
   "metadata": {},
   "source": [
    "### 5.  During the data preprocessing step, how should one treat missing/null values? How will you deal with them?\n",
    "#### There are many methods to treat the mesing values in python,\n",
    "1. Drop NaN values using `datafrmame.dropna()</code`.\n",
    "2. Fill missing values with some suitable scaler value `datafrmae.fillna(100)`.\n",
    "3. Fill missing values with `mean, mode, median`, of that column, `dataframe['column'].fillna(dataframe['column'].mean())`.\n",
    "4. Fill missing value from master dataframe.\n",
    "5. Machine learning to predict the missing values.\n",
    "6. Using clustering algorithm to predict missing value class."
   ]
  },
  {
   "cell_type": "code",
   "execution_count": null,
   "id": "2be1cc64",
   "metadata": {},
   "outputs": [],
   "source": []
  },
  {
   "cell_type": "markdown",
   "id": "ae48215d",
   "metadata": {},
   "source": [
    "### 6. What is an outlier and how to identify them?\n",
    "#### Outleir are the extreme least or extreme larg value which stand away from the group of data points. They causes low performnce in machine learning outcome prediction. There are two methods to indentify the outliers,\n",
    "1. Theoretical method: Where we need to calculate, 1st and 3rd quartile values and the data points which are lower or greater than 1.5 times the 1st or 3rd quartile values are eliminated.\n",
    "2. Graphical method: Boxplots are used to identify the outliers in python."
   ]
  },
  {
   "cell_type": "code",
   "execution_count": null,
   "id": "5c97a1cc",
   "metadata": {},
   "outputs": [],
   "source": []
  },
  {
   "cell_type": "markdown",
   "id": "add406b7",
   "metadata": {},
   "source": [
    "### 7. How is overfitting different from underfitting?\n",
    "#### Overfitting and Underfitting are the most common problems in machine learning.  Overfitting means our model try to learn every pattern in training set or in other words model is focused on training set but fail to generalize on test set hence the test acuracy is lower than the train. Underfitting means the model is not well-tuned to the training set and does not capture the relationship between input and output well enough."
   ]
  },
  {
   "cell_type": "code",
   "execution_count": null,
   "id": "dcc7749c",
   "metadata": {},
   "outputs": [],
   "source": []
  },
  {
   "cell_type": "markdown",
   "id": "660fad26",
   "metadata": {},
   "source": [
    "### 8. What is multicollinearity? How can you solve it?\n",
    "#### Multicollinearity is a statistical concept where several independent variables in a model are correlated. Two variables are considered perfectly collinear if their correlation coefficient is +/- 1.0. To solve multicollinearity,\n",
    "1. Remove one or more of the highly correlated variables.\n",
    "2. Linearly combine the predictor variables in some way, such as adding or subtracting them from one way.\n",
    "3. Perform an analysis that is designed to account for highly correlated variables such as principal component analysis or partial least squares (PLS) regression.\n",
    "4. Center the variables.\n",
    "5. Use more data."
   ]
  },
  {
   "cell_type": "code",
   "execution_count": null,
   "id": "b5f62cf6",
   "metadata": {},
   "outputs": [],
   "source": []
  }
 ],
 "metadata": {
  "kernelspec": {
   "display_name": "Python 3 (ipykernel)",
   "language": "python",
   "name": "python3"
  },
  "language_info": {
   "codemirror_mode": {
    "name": "ipython",
    "version": 3
   },
   "file_extension": ".py",
   "mimetype": "text/x-python",
   "name": "python",
   "nbconvert_exporter": "python",
   "pygments_lexer": "ipython3",
   "version": "3.9.7"
  }
 },
 "nbformat": 4,
 "nbformat_minor": 5
}
