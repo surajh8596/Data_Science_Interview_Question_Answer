{
 "cells": [
  {
   "cell_type": "markdown",
   "id": "c84a85b8",
   "metadata": {},
   "source": [
    "### 1.  What are the most common NumPy data types?\n",
    "#### As the name suggest(Numerical Python), Numers are the most common data types in Numpy array."
   ]
  },
  {
   "cell_type": "code",
   "execution_count": null,
   "id": "34b71da1",
   "metadata": {},
   "outputs": [],
   "source": []
  },
  {
   "cell_type": "markdown",
   "id": "117cab15",
   "metadata": {},
   "source": [
    "### 2. How to change the data type of a NumPy array?\n",
    "#### There many ways to convert data type of Numpy array,\n",
    "1. Using astype()"
   ]
  },
  {
   "cell_type": "code",
   "execution_count": 6,
   "id": "7f7fbbf2",
   "metadata": {},
   "outputs": [
    {
     "name": "stdout",
     "output_type": "stream",
     "text": [
      "[1 2 3 4 5 6] int32\n"
     ]
    }
   ],
   "source": [
    "import numpy as np\n",
    "a=np.array([1,2,3,4,5,6])\n",
    "print(a, a.dtype)"
   ]
  },
  {
   "cell_type": "code",
   "execution_count": 7,
   "id": "3e62067f",
   "metadata": {},
   "outputs": [
    {
     "name": "stdout",
     "output_type": "stream",
     "text": [
      "[1. 2. 3. 4. 5. 6.] float64\n"
     ]
    }
   ],
   "source": [
    "# change data type to float using astype()\n",
    "b=a.astype(float)\n",
    "print(b, b.dtype)"
   ]
  },
  {
   "cell_type": "markdown",
   "id": "da572a5b",
   "metadata": {},
   "source": [
    "2. Using parameter dtype='f' or 'float'"
   ]
  },
  {
   "cell_type": "code",
   "execution_count": 8,
   "id": "2e71a47c",
   "metadata": {},
   "outputs": [
    {
     "data": {
      "text/plain": [
       "array([1., 2., 3., 4., 5., 6.], dtype=float32)"
      ]
     },
     "execution_count": 8,
     "metadata": {},
     "output_type": "execute_result"
    }
   ],
   "source": [
    "c=np.array(a, dtype='f')\n",
    "c"
   ]
  },
  {
   "cell_type": "code",
   "execution_count": null,
   "id": "98b50e7f",
   "metadata": {},
   "outputs": [],
   "source": []
  },
  {
   "cell_type": "markdown",
   "id": "c7e12c04",
   "metadata": {},
   "source": [
    "### 3. What are the advantages of numpy array over a regular python list?\n",
    "#### Advatages of array over list are,\n",
    "1. Consumes less memory.\n",
    "2. Fast as compared to the python List.\n",
    "3. Convenient to use."
   ]
  },
  {
   "cell_type": "code",
   "execution_count": null,
   "id": "3c09ed88",
   "metadata": {},
   "outputs": [],
   "source": []
  },
  {
   "cell_type": "markdown",
   "id": "08537148",
   "metadata": {},
   "source": [
    "### 4.  What is the easiest way to calculate percentiles when using Python?\n",
    "#### Using numpy function `percentile` we can calculate percentile of any quantile value."
   ]
  },
  {
   "cell_type": "code",
   "execution_count": 14,
   "id": "d06c2b61",
   "metadata": {},
   "outputs": [
    {
     "data": {
      "text/plain": [
       "array([0.035 , 0.07  , 0.105 , 0.126 , 0.133 , 0.1386])"
      ]
     },
     "execution_count": 14,
     "metadata": {},
     "output_type": "execute_result"
    }
   ],
   "source": [
    "arr=[1,2,5,1,6,2,7,3,8,5,8,2,0,7,6]\n",
    "np.percentile(arr, q=[0.25, 0.5, 0.75, 0.9, 0.95, 0.99])"
   ]
  },
  {
   "cell_type": "code",
   "execution_count": null,
   "id": "786054b9",
   "metadata": {},
   "outputs": [],
   "source": []
  },
  {
   "cell_type": "markdown",
   "id": "34cf53a0",
   "metadata": {},
   "source": [
    "### 5. What are the different ways of creating DataFrame in pandas?\n",
    "#### We can create data frame from list, tuple, dictionary data structures. `pandas.DataFrame` is used to create dataframe in python."
   ]
  },
  {
   "cell_type": "code",
   "execution_count": 15,
   "id": "750a2b12",
   "metadata": {},
   "outputs": [
    {
     "data": {
      "text/html": [
       "<div>\n",
       "<style scoped>\n",
       "    .dataframe tbody tr th:only-of-type {\n",
       "        vertical-align: middle;\n",
       "    }\n",
       "\n",
       "    .dataframe tbody tr th {\n",
       "        vertical-align: top;\n",
       "    }\n",
       "\n",
       "    .dataframe thead th {\n",
       "        text-align: right;\n",
       "    }\n",
       "</style>\n",
       "<table border=\"1\" class=\"dataframe\">\n",
       "  <thead>\n",
       "    <tr style=\"text-align: right;\">\n",
       "      <th></th>\n",
       "      <th>name</th>\n",
       "      <th>age</th>\n",
       "    </tr>\n",
       "  </thead>\n",
       "  <tbody>\n",
       "    <tr>\n",
       "      <th>0</th>\n",
       "      <td>suraj</td>\n",
       "      <td>27</td>\n",
       "    </tr>\n",
       "    <tr>\n",
       "      <th>1</th>\n",
       "      <td>siya</td>\n",
       "      <td>28</td>\n",
       "    </tr>\n",
       "    <tr>\n",
       "      <th>2</th>\n",
       "      <td>riya</td>\n",
       "      <td>25</td>\n",
       "    </tr>\n",
       "    <tr>\n",
       "      <th>3</th>\n",
       "      <td>jiya</td>\n",
       "      <td>24</td>\n",
       "    </tr>\n",
       "    <tr>\n",
       "      <th>4</th>\n",
       "      <td>ravi</td>\n",
       "      <td>30</td>\n",
       "    </tr>\n",
       "  </tbody>\n",
       "</table>\n",
       "</div>"
      ],
      "text/plain": [
       "    name  age\n",
       "0  suraj   27\n",
       "1   siya   28\n",
       "2   riya   25\n",
       "3   jiya   24\n",
       "4   ravi   30"
      ]
     },
     "execution_count": 15,
     "metadata": {},
     "output_type": "execute_result"
    }
   ],
   "source": [
    "#dataframe using list\n",
    "pd.DataFrame({'name':['suraj','siya','riya','jiya','ravi'], 'age':[27, 28, 25, 24, 30]})"
   ]
  },
  {
   "cell_type": "code",
   "execution_count": 20,
   "id": "c2edf8d5",
   "metadata": {},
   "outputs": [
    {
     "data": {
      "text/html": [
       "<div>\n",
       "<style scoped>\n",
       "    .dataframe tbody tr th:only-of-type {\n",
       "        vertical-align: middle;\n",
       "    }\n",
       "\n",
       "    .dataframe tbody tr th {\n",
       "        vertical-align: top;\n",
       "    }\n",
       "\n",
       "    .dataframe thead th {\n",
       "        text-align: right;\n",
       "    }\n",
       "</style>\n",
       "<table border=\"1\" class=\"dataframe\">\n",
       "  <thead>\n",
       "    <tr style=\"text-align: right;\">\n",
       "      <th></th>\n",
       "      <th>name</th>\n",
       "      <th>age</th>\n",
       "    </tr>\n",
       "  </thead>\n",
       "  <tbody>\n",
       "    <tr>\n",
       "      <th>0</th>\n",
       "      <td>suraj</td>\n",
       "      <td>27</td>\n",
       "    </tr>\n",
       "    <tr>\n",
       "      <th>1</th>\n",
       "      <td>siya</td>\n",
       "      <td>28</td>\n",
       "    </tr>\n",
       "    <tr>\n",
       "      <th>2</th>\n",
       "      <td>riya</td>\n",
       "      <td>25</td>\n",
       "    </tr>\n",
       "    <tr>\n",
       "      <th>3</th>\n",
       "      <td>jiya</td>\n",
       "      <td>24</td>\n",
       "    </tr>\n",
       "    <tr>\n",
       "      <th>4</th>\n",
       "      <td>ravi</td>\n",
       "      <td>30</td>\n",
       "    </tr>\n",
       "  </tbody>\n",
       "</table>\n",
       "</div>"
      ],
      "text/plain": [
       "    name  age\n",
       "0  suraj   27\n",
       "1   siya   28\n",
       "2   riya   25\n",
       "3   jiya   24\n",
       "4   ravi   30"
      ]
     },
     "execution_count": 20,
     "metadata": {},
     "output_type": "execute_result"
    }
   ],
   "source": [
    "#dataframe using tuple\n",
    "pd.DataFrame({'name':('suraj','siya','riya','jiya','ravi'), 'age':(27, 28, 25, 24, 30)})"
   ]
  },
  {
   "cell_type": "code",
   "execution_count": null,
   "id": "34c1f73b",
   "metadata": {},
   "outputs": [],
   "source": []
  },
  {
   "cell_type": "markdown",
   "id": "a2d6b6ee",
   "metadata": {},
   "source": [
    "### 6.  What do you mean by data aggregation?\n",
    "#### Data aggregation is the process where data is gathered and expressed in a summary form. Summary can mean, median, percentage, variance, standard deviation etc."
   ]
  },
  {
   "cell_type": "code",
   "execution_count": 34,
   "id": "63d75820",
   "metadata": {},
   "outputs": [
    {
     "data": {
      "text/html": [
       "<div>\n",
       "<style scoped>\n",
       "    .dataframe tbody tr th:only-of-type {\n",
       "        vertical-align: middle;\n",
       "    }\n",
       "\n",
       "    .dataframe tbody tr th {\n",
       "        vertical-align: top;\n",
       "    }\n",
       "\n",
       "    .dataframe thead th {\n",
       "        text-align: right;\n",
       "    }\n",
       "</style>\n",
       "<table border=\"1\" class=\"dataframe\">\n",
       "  <thead>\n",
       "    <tr style=\"text-align: right;\">\n",
       "      <th></th>\n",
       "      <th>age</th>\n",
       "      <th>salary</th>\n",
       "    </tr>\n",
       "  </thead>\n",
       "  <tbody>\n",
       "    <tr>\n",
       "      <th>sum</th>\n",
       "      <td>134.000000</td>\n",
       "      <td>2.000000e+04</td>\n",
       "    </tr>\n",
       "    <tr>\n",
       "      <th>mean</th>\n",
       "      <td>26.800000</td>\n",
       "      <td>4.000000e+03</td>\n",
       "    </tr>\n",
       "    <tr>\n",
       "      <th>median</th>\n",
       "      <td>27.000000</td>\n",
       "      <td>4.000000e+03</td>\n",
       "    </tr>\n",
       "    <tr>\n",
       "      <th>std</th>\n",
       "      <td>2.387467</td>\n",
       "      <td>1.581139e+03</td>\n",
       "    </tr>\n",
       "    <tr>\n",
       "      <th>var</th>\n",
       "      <td>5.700000</td>\n",
       "      <td>2.500000e+06</td>\n",
       "    </tr>\n",
       "  </tbody>\n",
       "</table>\n",
       "</div>"
      ],
      "text/plain": [
       "               age        salary\n",
       "sum     134.000000  2.000000e+04\n",
       "mean     26.800000  4.000000e+03\n",
       "median   27.000000  4.000000e+03\n",
       "std       2.387467  1.581139e+03\n",
       "var       5.700000  2.500000e+06"
      ]
     },
     "execution_count": 34,
     "metadata": {},
     "output_type": "execute_result"
    }
   ],
   "source": [
    "df=pd.DataFrame({'name':('suraj','siya','riya','jiya','ravi'), 'age':(27, 28, 25, 24, 30), 'salary':(2000,5000,4000,3000,6000)})\n",
    "df[['age','salary']].aggregate([np.sum, np.mean, np.median, np.std, np.var])"
   ]
  },
  {
   "cell_type": "code",
   "execution_count": null,
   "id": "29e9de38",
   "metadata": {},
   "outputs": [],
   "source": []
  },
  {
   "cell_type": "markdown",
   "id": "d36c0afa",
   "metadata": {},
   "source": [
    "### 7. What do you mean by pandas indexing?\n",
    "####  Indexing in pandas means simply selecting particular rows and columns of data from a DataFrame."
   ]
  },
  {
   "cell_type": "code",
   "execution_count": 37,
   "id": "93e97c20",
   "metadata": {},
   "outputs": [
    {
     "data": {
      "text/plain": [
       "0    27\n",
       "1    28\n",
       "2    25\n",
       "3    24\n",
       "Name: age, dtype: int64"
      ]
     },
     "execution_count": 37,
     "metadata": {},
     "output_type": "execute_result"
    }
   ],
   "source": [
    "df['age'][0:4]"
   ]
  },
  {
   "cell_type": "code",
   "execution_count": null,
   "id": "8849c3d4",
   "metadata": {},
   "outputs": [],
   "source": []
  },
  {
   "cell_type": "markdown",
   "id": "b06a96e3",
   "metadata": {},
   "source": [
    "### 8. What is the best way to generate histograms in matplotlib?\n",
    "#### Using `matplotlib.pyplot.histplot` we can create histogram."
   ]
  },
  {
   "cell_type": "code",
   "execution_count": null,
   "id": "5313b069",
   "metadata": {},
   "outputs": [],
   "source": []
  },
  {
   "cell_type": "markdown",
   "id": "b70e82d6",
   "metadata": {},
   "source": [
    "### 9. Can you provide me with an example of when a scatter graph would be more appropriate than a line chart?\n",
    "#### Scatter plot is used to plot the relationship between two continoues numerical columns where the Line chart is used when we want to see the trend of some data wrt time."
   ]
  },
  {
   "cell_type": "code",
   "execution_count": null,
   "id": "18ee0d2a",
   "metadata": {},
   "outputs": [],
   "source": []
  },
  {
   "cell_type": "markdown",
   "id": "6b5a5363",
   "metadata": {},
   "source": [
    "### 10. Explain the plots you will use for analyzing one categorical, one numerical, two categorical, two numerical, one categorical and one numerical columns?\n",
    "1. Univariate analysis for one categorical column, it is more appropriate to use `countplot`.\n",
    "2. Univariate analysis for one numerical columns, it is more appropriate to use `boxplot, histogram, kde plot, distplot`.\n",
    "3. Bivariate analysis for 2 categorical column, it is better to use `crosstab`.\n",
    "4. Bivariate analysis for 2 numerical column, it is appropriate to use `scatterplot`.\n",
    "5. Bivariate for one numerical and other categorical, we use `barplot` sometimes `boxplots`.\n",
    "6. To see the relationship between all numerical features we use correlation matrix ploted using `heatmap`."
   ]
  },
  {
   "cell_type": "code",
   "execution_count": null,
   "id": "3cb08c02",
   "metadata": {},
   "outputs": [],
   "source": []
  }
 ],
 "metadata": {
  "kernelspec": {
   "display_name": "Python 3 (ipykernel)",
   "language": "python",
   "name": "python3"
  },
  "language_info": {
   "codemirror_mode": {
    "name": "ipython",
    "version": 3
   },
   "file_extension": ".py",
   "mimetype": "text/x-python",
   "name": "python",
   "nbconvert_exporter": "python",
   "pygments_lexer": "ipython3",
   "version": "3.9.7"
  }
 },
 "nbformat": 4,
 "nbformat_minor": 5
}
